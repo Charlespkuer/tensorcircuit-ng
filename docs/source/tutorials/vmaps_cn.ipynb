{
 "cells": [
  {
   "cell_type": "markdown",
   "id": "43778e92",
   "metadata": {},
   "source": [
    "# Utilizing vmap in quantum circuit simulations"
   ]
  },
  {
   "cell_type": "markdown",
   "id": "6326b34d",
   "metadata": {},
   "source": [
    "## Overview\n",
    "\n",
    "TODO: please refer to the patent"
   ]
  },
  {
   "cell_type": "markdown",
   "id": "a14001c5",
   "metadata": {},
   "source": [
    "## Setup"
   ]
  },
  {
   "cell_type": "code",
   "execution_count": 1,
   "id": "5398ff95",
   "metadata": {},
   "outputs": [
    {
     "name": "stdout",
     "output_type": "stream",
     "text": [
      "0.0.220118\n"
     ]
    }
   ],
   "source": [
    "import numpy as np\n",
    "import tensorcircuit as tc\n",
    "\n",
    "tc.set_backend(\"tensorflow\")\n",
    "print(tc.__version__)"
   ]
  },
  {
   "cell_type": "markdown",
   "id": "65d543db",
   "metadata": {},
   "source": [
    "## vmap the input states"
   ]
  },
  {
   "cell_type": "markdown",
   "id": "53f11707",
   "metadata": {},
   "source": [
    "## vmap the circuit weights"
   ]
  },
  {
   "cell_type": "markdown",
   "id": "cc964c68",
   "metadata": {},
   "source": [
    "## vmap the quantum noise"
   ]
  },
  {
   "cell_type": "markdown",
   "id": "f2f659f9",
   "metadata": {},
   "source": [
    "## vmap the circuit structure"
   ]
  },
  {
   "cell_type": "markdown",
   "id": "313d65f4",
   "metadata": {},
   "source": [
    "## vmap the circuit measurements"
   ]
  }
 ],
 "metadata": {
  "kernelspec": {
   "display_name": "Python 3 (ipykernel)",
   "language": "python",
   "name": "python3"
  },
  "language_info": {
   "codemirror_mode": {
    "name": "ipython",
    "version": 3
   },
   "file_extension": ".py",
   "mimetype": "text/x-python",
   "name": "python",
   "nbconvert_exporter": "python",
   "pygments_lexer": "ipython3",
   "version": "3.8.0"
  }
 },
 "nbformat": 4,
 "nbformat_minor": 5
}
