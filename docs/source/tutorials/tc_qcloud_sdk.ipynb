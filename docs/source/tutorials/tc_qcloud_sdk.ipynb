{
 "cells": [
  {
   "cell_type": "markdown",
   "id": "38c73e8c",
   "metadata": {},
   "source": [
    "# tensorcircuit SDK for QCloud（221230 ver）"
   ]
  },
  {
   "cell_type": "markdown",
   "id": "f77a17c8",
   "metadata": {},
   "source": [
    "## import the package\n",
    "\n",
    "``apis`` is temporarily as the entry point submodule for qcloud"
   ]
  },
  {
   "cell_type": "code",
   "execution_count": 1,
   "id": "8595b0b0",
   "metadata": {},
   "outputs": [],
   "source": [
    "import tensorcircuit as tc\n",
    "from tensorcircuit.cloud import apis\n",
    "import numpy as np"
   ]
  },
  {
   "cell_type": "markdown",
   "id": "faece4fa",
   "metadata": {},
   "source": [
    "## setup the token\n",
    "\n",
    "The users need an API token from tQuK to connect to the server and submit tasks, the token only need be set once and it is then written to the local computer"
   ]
  },
  {
   "cell_type": "code",
   "execution_count": 18,
   "id": "06e38047",
   "metadata": {},
   "outputs": [
    {
     "data": {
      "text/plain": [
       "{'tencent::': 'wROld-1665558660551115293;8',\n",
       " 'tencent::simulator:tc': 'wROld-1665558660551115293;8'}"
      ]
     },
     "execution_count": 18,
     "metadata": {},
     "output_type": "execute_result"
    }
   ],
   "source": [
    "apis.set_token(\"wROld-1665558660551115293;8\")\n",
    "# only required running once for a given laptop"
   ]
  },
  {
   "cell_type": "markdown",
   "id": "f3e53835",
   "metadata": {},
   "source": [
    "## list providers/devices/properties"
   ]
  },
  {
   "cell_type": "code",
   "execution_count": 7,
   "id": "59dc5c6f",
   "metadata": {},
   "outputs": [
    {
     "data": {
      "text/plain": [
       "[tencent, local]"
      ]
     },
     "execution_count": 7,
     "metadata": {},
     "output_type": "execute_result"
    }
   ],
   "source": [
    "apis.list_providers()"
   ]
  },
  {
   "cell_type": "code",
   "execution_count": 8,
   "id": "d231e5c3",
   "metadata": {},
   "outputs": [
    {
     "data": {
      "text/plain": [
       "[tencent::20xmon,\n",
       " tencent::9gmon,\n",
       " tencent::simulator:aer,\n",
       " tencent::simulator:qx,\n",
       " tencent::simulator:tc,\n",
       " tencent::simulator:tcn1]"
      ]
     },
     "execution_count": 8,
     "metadata": {},
     "output_type": "execute_result"
    }
   ],
   "source": [
    "apis.list_devices(\"tencent\")"
   ]
  },
  {
   "cell_type": "code",
   "execution_count": 4,
   "id": "e2ab9a2c",
   "metadata": {},
   "outputs": [
    {
     "data": {
      "text/plain": [
       "{'id': '9gmon',\n",
       " 'type': 'CHIP',\n",
       " 'qubits': 9,\n",
       " 'state': 'on',\n",
       " 'queue': 0,\n",
       " 'langs': ['tQASM', 'eQASM'],\n",
       " 'memo': 'tQLab 9Gmon',\n",
       " 'usage': '9gmon?o=0 \\nthe o(ptimized) to specify optimization level bits: both = 3 (bits 11) = gate decomposition = 2 (bit 10) | qubit mapping = 1 (bit 01)'}"
      ]
     },
     "execution_count": 4,
     "metadata": {},
     "output_type": "execute_result"
    }
   ],
   "source": [
    "apis.list_properties(device=\"9gmon\")"
   ]
  },
  {
   "cell_type": "code",
   "execution_count": 6,
   "id": "aaec43c3",
   "metadata": {},
   "outputs": [
    {
     "data": {
      "text/plain": [
       "{'id': 'simulator:tcn1',\n",
       " 'alias': 'simulator:tc?noise',\n",
       " 'state': '',\n",
       " 'queue': 0}"
      ]
     },
     "execution_count": 6,
     "metadata": {},
     "output_type": "execute_result"
    }
   ],
   "source": [
    "apis.list_properties(device=\"simulator:tcn1\")"
   ]
  },
  {
   "cell_type": "markdown",
   "id": "148b9b40",
   "metadata": {},
   "source": [
    "## Task submit and the results"
   ]
  },
  {
   "cell_type": "code",
   "execution_count": 10,
   "id": "94404d7a",
   "metadata": {},
   "outputs": [
    {
     "name": "stdout",
     "output_type": "stream",
     "text": [
      "{'id': '2831cfb4-cdae-4b1d-8917-70d4a0fa4b72', 'queue': 'low', 'device': 'simulator:tc?o=3', 'state': 'pending', 'shots': 1024, 'at': 1672391326132532, 'ts': {'pending': 1672391326132532, 'scheduled': 1672391326129379}, 'md5': 'db493e15a6e8a68beed1815f760b45d0', 'source': 'OPENQASM 2.0;\\ninclude \"qelib1.inc\";\\nqreg q[1];\\ncreg c[1];\\nh q[0];', 'version': '1', 'lang': 'OPENQASM', 'prior': 1, 'optimization': {}}\n"
     ]
    },
    {
     "data": {
      "text/plain": [
       "{'0': 549, '1': 475}"
      ]
     },
     "execution_count": 10,
     "metadata": {},
     "output_type": "execute_result"
    }
   ],
   "source": [
    "c = tc.Circuit(1)\n",
    "c.H(0)\n",
    "\n",
    "t = apis.submit_task(device=\"simulator:tc\", circuit=c, shots=1024)\n",
    "print(t.details())\n",
    "t.results(blocked=True)"
   ]
  },
  {
   "cell_type": "code",
   "execution_count": 11,
   "id": "617cbd84",
   "metadata": {},
   "outputs": [
    {
     "data": {
      "text/plain": [
       "'completed'"
      ]
     },
     "execution_count": 11,
     "metadata": {},
     "output_type": "execute_result"
    }
   ],
   "source": [
    "t.status()"
   ]
  },
  {
   "cell_type": "code",
   "execution_count": 12,
   "id": "a6e686be",
   "metadata": {},
   "outputs": [
    {
     "data": {
      "text/plain": [
       "tencent::simulator:tc"
      ]
     },
     "execution_count": 12,
     "metadata": {},
     "output_type": "execute_result"
    }
   ],
   "source": [
    "t.get_device()"
   ]
  },
  {
   "cell_type": "code",
   "execution_count": 13,
   "id": "77dddd16",
   "metadata": {},
   "outputs": [
    {
     "name": "stdout",
     "output_type": "stream",
     "text": [
      "{'id': '7e212512-8d10-4bb9-bd24-5cf036da41d2', 'queue': 'low', 'device': 'simulator:tc?o=3', 'qubits': 1, 'state': 'pending', 'shots': 1024, 'at': 1672391337185756, 'ts': {'completed': 1672391327686452, 'pending': 1672391337185756, 'scheduled': 1672391337178889}, 'md5': 'db493e15a6e8a68beed1815f760b45d0', 'runAt': 1672391326, 'runDur': 1036, 'source': 'OPENQASM 2.0;\\ninclude \"qelib1.inc\";\\nqreg q[1];\\ncreg c[1];\\nh q[0];', 'version': '1', 'lang': 'OPENQASM', 'prior': 1, 'result': {'0': 549, '1': 475}, 'optimization': {}, 'results': {'0': 549, '1': 475}}\n"
     ]
    },
    {
     "data": {
      "text/plain": [
       "{'0': 534, '1': 490}"
      ]
     },
     "execution_count": 13,
     "metadata": {},
     "output_type": "execute_result"
    }
   ],
   "source": [
    "# resubmit a job\n",
    "t1 = t.resubmit()\n",
    "print(t1.details())\n",
    "t1.results(blocked=True)"
   ]
  },
  {
   "cell_type": "markdown",
   "id": "8c795e68",
   "metadata": {},
   "source": [
    "## local provider enable quick debugging and testing"
   ]
  },
  {
   "cell_type": "code",
   "execution_count": 14,
   "id": "570159fe",
   "metadata": {},
   "outputs": [
    {
     "data": {
      "text/plain": [
       "[local::testing]"
      ]
     },
     "execution_count": 14,
     "metadata": {},
     "output_type": "execute_result"
    }
   ],
   "source": [
    "apis.set_provider(\"local\")\n",
    "# using tc simulator on local device: your own laptop is your server\n",
    "apis.list_devices()"
   ]
  },
  {
   "cell_type": "code",
   "execution_count": 15,
   "id": "fd99ee01",
   "metadata": {},
   "outputs": [
    {
     "data": {
      "text/plain": [
       "{'00': 4100, '11': 4092}"
      ]
     },
     "execution_count": 15,
     "metadata": {},
     "output_type": "execute_result"
    }
   ],
   "source": [
    "c = tc.Circuit(2)\n",
    "c.h(0)\n",
    "c.cx(0, 1)\n",
    "\n",
    "# exactly the same API as tQuK\n",
    "t = apis.submit_task(circuit=c, device=\"testing\", shots=8192)\n",
    "t.results(blocked=True)"
   ]
  },
  {
   "cell_type": "code",
   "execution_count": 16,
   "id": "bb62ed45",
   "metadata": {},
   "outputs": [
    {
     "data": {
      "text/plain": [
       "[local::testing~~0e061ad5-e721-402a-a649-8dd4eb520d80]"
      ]
     },
     "execution_count": 16,
     "metadata": {},
     "output_type": "execute_result"
    }
   ],
   "source": [
    "tl = apis.list_tasks()\n",
    "tl"
   ]
  },
  {
   "cell_type": "code",
   "execution_count": 19,
   "id": "045a19ef",
   "metadata": {},
   "outputs": [
    {
     "name": "stdout",
     "output_type": "stream",
     "text": [
      "local::testing~~0e061ad5-e721-402a-a649-8dd4eb520d80\n"
     ]
    },
    {
     "data": {
      "text/plain": [
       "{'id': '0e061ad5-e721-402a-a649-8dd4eb520d80',\n",
       " 'state': 'completed',\n",
       " 'at': 1672391359398387.0,\n",
       " 'shots': 8192,\n",
       " 'device': 'testing',\n",
       " 'results': {'00': 4100, '11': 4092}}"
      ]
     },
     "execution_count": 19,
     "metadata": {},
     "output_type": "execute_result"
    }
   ],
   "source": [
    "id_ = tl[0].__str__()\n",
    "print(id_)\n",
    "t = apis.get_task(id_)\n",
    "t.details()"
   ]
  },
  {
   "cell_type": "code",
   "execution_count": 20,
   "id": "307eeb42",
   "metadata": {},
   "outputs": [
    {
     "data": {
      "text/plain": [
       "tencent"
      ]
     },
     "execution_count": 20,
     "metadata": {},
     "output_type": "execute_result"
    }
   ],
   "source": [
    "# back to tencent server by\n",
    "apis.set_provider(\"tencent\")"
   ]
  },
  {
   "cell_type": "markdown",
   "id": "9bf0d5ca",
   "metadata": {},
   "source": [
    "## GHZ on real device and readout mitigation"
   ]
  },
  {
   "cell_type": "code",
   "execution_count": 23,
   "id": "2cc7c82c",
   "metadata": {},
   "outputs": [],
   "source": [
    "nqubit = 9\n",
    "shots = 4096\n",
    "c = tc.Circuit(nqubit)\n",
    "c.H(8)\n",
    "c.cnot(8, 4)\n",
    "c.cnot(4, 0)\n",
    "c.cnot(0, 2)\n",
    "c.cnot(2, 6)\n",
    "\n",
    "t = apis.submit_task(\n",
    "    circuit=c, shots=shots, device=\"9gmon\", enable_qos_qubit_mapping=False\n",
    ")\n",
    "raw_count = t.results(blocked=True)\n",
    "# blocked = True will block the process until the result is returned\n",
    "# the default behavior is blocked=False, where only one query is made and raise error when the task is incomplete"
   ]
  },
  {
   "cell_type": "code",
   "execution_count": 24,
   "id": "f2ed2419",
   "metadata": {},
   "outputs": [],
   "source": [
    "ReadoutMit = tc.results.readout_mitigation.ReadoutMit\n",
    "mit = ReadoutMit(\"9gmon?o=0\")\n",
    "mit.cals_from_system(nqubit, shots, method=\"local\")\n",
    "miti_count = mit.apply_correction(raw_count, nqubit, \"square\")"
   ]
  },
  {
   "cell_type": "code",
   "execution_count": 25,
   "id": "139700b3",
   "metadata": {},
   "outputs": [],
   "source": [
    "raw_count = tc.results.counts.marginal_count(raw_count, [8, 4, 0, 2, 6])\n",
    "miti_count = tc.results.counts.marginal_count(miti_count, [8, 4, 0, 2, 6])\n",
    "# only keep the result for qubit 8, 4, 0, 2, 6 and in that order"
   ]
  },
  {
   "cell_type": "code",
   "execution_count": 26,
   "id": "093ec74c",
   "metadata": {},
   "outputs": [
    {
     "data": {
      "image/png": "[encoded data removed]",
      "text/plain": [
       "<Figure size 504x360 with 1 Axes>"
      ]
     },
     "execution_count": 26,
     "metadata": {},
     "output_type": "execute_result"
    }
   ],
   "source": [
    "from qiskit.visualization import plot_histogram\n",
    "\n",
    "plot_histogram([raw_count, miti_count])"
   ]
  },
  {
   "cell_type": "code",
   "execution_count": 27,
   "id": "e4bd6569",
   "metadata": {},
   "outputs": [
    {
     "data": {
      "text/plain": [
       "(0.4302675317947488, 0.08294928617219555)"
      ]
     },
     "execution_count": 27,
     "metadata": {},
     "output_type": "execute_result"
    }
   ],
   "source": [
    "ideal_count = tc.results.counts.vec2count(c.probability(), prune=True)\n",
    "ideal_count = tc.results.counts.marginal_count(ideal_count, [8, 4, 0, 2, 6])\n",
    "tc.results.counts.kl_divergence(\n",
    "    ideal_count, raw_count\n",
    "), tc.results.counts.kl_divergence(ideal_count, miti_count)"
   ]
  },
  {
   "cell_type": "code",
   "execution_count": 28,
   "id": "91720f2c",
   "metadata": {},
   "outputs": [
    {
     "name": "stdout",
     "output_type": "stream",
     "text": [
      "readout matrix\n",
      "qubit 0:\n",
      "[[0.95800781 0.16650391]\n",
      " [0.04199219 0.83349609]]\n",
      "qubit 1:\n",
      "[[0.96606445 0.08862305]\n",
      " [0.03393555 0.91137695]]\n",
      "qubit 2:\n",
      "[[0.98266602 0.06079102]\n",
      " [0.01733398 0.93920898]]\n",
      "qubit 3:\n",
      "[[0.99389648 0.07177734]\n",
      " [0.00610352 0.92822266]]\n",
      "qubit 4:\n",
      "[[0.984375   0.06225586]\n",
      " [0.015625   0.93774414]]\n",
      "qubit 5:\n",
      "[[0.97802734 0.06787109]\n",
      " [0.02197266 0.93212891]]\n",
      "qubit 6:\n",
      "[[0.95703125 0.0925293 ]\n",
      " [0.04296875 0.9074707 ]]\n",
      "qubit 7:\n",
      "[[0.97607422 0.07910156]\n",
      " [0.02392578 0.92089844]]\n",
      "qubit 8:\n",
      "[[0.95629883 0.14672852]\n",
      " [0.04370117 0.85327148]]\n"
     ]
    }
   ],
   "source": [
    "# we can directly check local readout matrix on each qubit\n",
    "print(\"readout matrix\")\n",
    "for i, m in enumerate(mit.single_qubit_cals):\n",
    "    print(\"qubit %s:\" % i)\n",
    "    print(m)"
   ]
  },
  {
   "cell_type": "code",
   "execution_count": 19,
   "id": "db3e59b5",
   "metadata": {},
   "outputs": [
    {
     "name": "stdout",
     "output_type": "stream",
     "text": [
      "{'00': 526, '10': 481, '01': 10, '11': 7}\n",
      "{'00': 524, '01': 470, '11': 18, '10': 12}\n"
     ]
    }
   ],
   "source": [
    "# we can also do batch submission\n",
    "\n",
    "c = tc.Circuit(2)\n",
    "c.h(0)\n",
    "\n",
    "c1 = tc.Circuit(2)\n",
    "c1.h(1)\n",
    "\n",
    "ts = apis.submit_task(device=\"9gmon\", circuit=[c, c1], shots=1024)\n",
    "\n",
    "for t in ts:\n",
    "    print(t.results(blocked=True))"
   ]
  },
  {
   "cell_type": "markdown",
   "id": "4d2c56b6",
   "metadata": {},
   "source": [
    "## three approaches for measure on partial of the qubits\n",
    "\n",
    "Note the return order is not according to the original qubit order instead of measure order in the instructions"
   ]
  },
  {
   "cell_type": "code",
   "execution_count": 29,
   "id": "9d7abd03",
   "metadata": {},
   "outputs": [
    {
     "name": "stdout",
     "output_type": "stream",
     "text": [
      "{'00000': 1645, '11111': 988, '00101': 205, '11110': 147, '01111': 142, '11010': 137, '00001': 135, '11101': 101, '11011': 76, '01010': 70, '00010': 64, '10111': 58, '00100': 53, '01101': 36, '01000': 31, '10000': 29, '10101': 29, '00111': 23, '01011': 19, '11000': 18, '11100': 16, '01110': 15, '01100': 10, '10110': 9, '01001': 7, '10010': 7, '10001': 6, '10011': 6, '10100': 5, '11001': 5, '00011': 4}\n"
     ]
    }
   ],
   "source": [
    "# directly partial measure\n",
    "\n",
    "# approach 1\n",
    "nqubit = 9\n",
    "shots = 4096\n",
    "c = tc.Circuit(nqubit)\n",
    "c.H(8)\n",
    "c.cnot(8, 4)\n",
    "c.cnot(4, 0)\n",
    "c.cnot(0, 2)\n",
    "c.cnot(2, 6)\n",
    "\n",
    "t = apis.submit_task(\n",
    "    circuit=c, shots=shots, device=\"9gmon?o=0\", measure=[8, 4, 0, 2, 6]\n",
    ")\n",
    "print(t.results(blocked=True))"
   ]
  },
  {
   "cell_type": "code",
   "execution_count": 21,
   "id": "9ac0b2fe",
   "metadata": {},
   "outputs": [
    {
     "name": "stdout",
     "output_type": "stream",
     "text": [
      "{'00000': 3305, '11111': 2115, '00001': 378, '11110': 354, '11101': 296, '01111': 247, '00101': 212, '00010': 146, '11010': 145, '10111': 139, '11011': 135, '10101': 96, '00100': 86, '01010': 79, '01101': 71, '01000': 61, '11100': 54, '01110': 43, '10000': 28, '00111': 24, '01011': 24, '10110': 23, '00011': 22, '11001': 22, '10100': 15, '01100': 14, '11000': 14, '01001': 11, '10010': 10, '10001': 9, '10011': 8, '00110': 6}\n"
     ]
    }
   ],
   "source": [
    "# directly partial measure\n",
    "\n",
    "# approach 2\n",
    "from qiskit.circuit import QuantumCircuit\n",
    "\n",
    "qc = QuantumCircuit(9, 9)\n",
    "qc.h(8)\n",
    "qc.cnot(8, 4)\n",
    "qc.cnot(4, 0)\n",
    "qc.cnot(0, 2)\n",
    "qc.cnot(2, 6)\n",
    "qc.measure(8, 8)\n",
    "qc.measure(4, 4)\n",
    "qc.measure(0, 0)\n",
    "qc.measure(2, 2)\n",
    "qc.measure(6, 6)\n",
    "\n",
    "t = apis.submit_task(circuit=qc, shots=shots, device=\"9gmon?o=0\")\n",
    "print(t.results(blocked=True))"
   ]
  },
  {
   "cell_type": "markdown",
   "id": "7ea3ea0f",
   "metadata": {},
   "source": [
    " The above case also indicate that our ``submit_task`` API directly support Qiskit ``QuantumCircuit`` object"
   ]
  },
  {
   "cell_type": "code",
   "execution_count": 4,
   "id": "5ce371e9",
   "metadata": {},
   "outputs": [
    {
     "name": "stdout",
     "output_type": "stream",
     "text": [
      "{'00000': 1594, '11111': 984, '00101': 214, '11010': 167, '00001': 148, '11110': 125, '01111': 122, '11101': 120, '11011': 87, '10111': 74, '00010': 68, '00100': 44, '01000': 43, '01010': 39, '10101': 35, '01101': 32, '10000': 27, '00111': 23, '11000': 22, '11100': 18, '01110': 16, '10010': 15, '10110': 14, '01011': 10, '01100': 10, '01001': 9, '11001': 9, '00011': 8, '10011': 6, '10100': 6, '00110': 4, '10001': 3}\n"
     ]
    }
   ],
   "source": [
    "# directly partial measure\n",
    "\n",
    "# approach 3\n",
    "\n",
    "nqubit = 9\n",
    "shots = 4096\n",
    "c = tc.Circuit(nqubit)\n",
    "c.H(8)\n",
    "c.cnot(8, 4)\n",
    "c.cnot(4, 0)\n",
    "c.cnot(0, 2)\n",
    "c.cnot(2, 6)\n",
    "c.measure_instruction(8)\n",
    "c.measure_instruction(4)\n",
    "c.measure_instruction(0)\n",
    "c.measure_instruction(2)\n",
    "c.measure_instruction(6)\n",
    "\n",
    "t = apis.submit_task(circuit=c, shots=shots, device=\"9gmon?o=0\")\n",
    "print(t.results(blocked=True))"
   ]
  },
  {
   "cell_type": "markdown",
   "id": "20b8b1d5",
   "metadata": {},
   "source": [
    "## two level compiling system\n",
    "\n",
    "We provide compiling support at frond end (via tc-qiskit pipeline) and at back end (in qos)"
   ]
  },
  {
   "cell_type": "code",
   "execution_count": 5,
   "id": "03aed751",
   "metadata": {},
   "outputs": [
    {
     "name": "stdout",
     "output_type": "stream",
     "text": [
      "exact:  [array(-5.9604645e-08, dtype=float32), array(0.3623577, dtype=float32), array(0.76484215, dtype=float32)]\n",
      "experiments (mitigated):  [0.04084053550245752, 0.28041151119143615, 0.8151639888461032]\n"
     ]
    }
   ],
   "source": [
    "# directly use built-in mitigation with expectation evaluation + front-end (tc/qiskit) compiling system\n",
    "\n",
    "nqubit = 3\n",
    "shots = 8192\n",
    "c = tc.Circuit(nqubit)\n",
    "c.h(0)\n",
    "c.h(1)\n",
    "c.rx(2, theta=0.7)\n",
    "c.ry(1, theta=-1.2)\n",
    "c.cnot(0, 1)\n",
    "c.cnot(2, 0)\n",
    "c.h(1)\n",
    "\n",
    "print(\"exact: \", [np.real(c.expectation_ps(z=[i])) for i in range(nqubit)])\n",
    "t = apis.submit_task(\n",
    "    circuit=c,\n",
    "    shots=shots,\n",
    "    device=\"9gmon\",\n",
    "    compiled=True,\n",
    "    enable_qos_qubit_mapping=False,\n",
    "    enable_qos_gate_decomposition=False,\n",
    ")\n",
    "\n",
    "ct = t.results(blocked=True)\n",
    "\n",
    "mit = tc.results.readout_mitigation.ReadoutMit(\"9gmon?o=0\")\n",
    "mit.cals_from_system(3, method=\"local\")\n",
    "\n",
    "print(\n",
    "    \"experiments (mitigated): \",\n",
    "    [mit.expectation(ct, [i]) for i in range(nqubit)],\n",
    ")"
   ]
  },
  {
   "cell_type": "code",
   "execution_count": 6,
   "id": "bd760c6b",
   "metadata": {
    "scrolled": true
   },
   "outputs": [
    {
     "data": {
      "text/html": [
       "<pre style=\"word-wrap: normal;white-space: pre;background: #fff0;line-height: 1.1;font-family: &quot;Courier New&quot;,Courier,monospace\">        ┌───┐                    ┌───┐     \n",
       "q_0: ───┤ H ├─────────────────■──┤ X ├─────\n",
       "        ├───┤   ┌──────────┐┌─┴─┐└─┬─┘┌───┐\n",
       "q_1: ───┤ H ├───┤ Ry(-1.2) ├┤ X ├──┼──┤ H ├\n",
       "     ┌──┴───┴──┐└──────────┘└───┘  │  └───┘\n",
       "q_2: ┤ Rx(0.7) ├───────────────────■───────\n",
       "     └─────────┘                           \n",
       "c: 3/══════════════════════════════════════\n",
       "                                           </pre>"
      ],
      "text/plain": [
       "        ┌───┐                    ┌───┐     \n",
       "q_0: ───┤ H ├─────────────────■──┤ X ├─────\n",
       "        ├───┤   ┌──────────┐┌─┴─┐└─┬─┘┌───┐\n",
       "q_1: ───┤ H ├───┤ Ry(-1.2) ├┤ X ├──┼──┤ H ├\n",
       "     ┌──┴───┴──┐└──────────┘└───┘  │  └───┘\n",
       "q_2: ┤ Rx(0.7) ├───────────────────■───────\n",
       "     └─────────┘                           \n",
       "c: 3/══════════════════════════════════════\n",
       "                                           "
      ]
     },
     "execution_count": 6,
     "metadata": {},
     "output_type": "execute_result"
    }
   ],
   "source": [
    "c.draw()"
   ]
  },
  {
   "cell_type": "code",
   "execution_count": 10,
   "id": "a45fa6f5",
   "metadata": {},
   "outputs": [
    {
     "name": "stdout",
     "output_type": "stream",
     "text": [
      "exact:  [array(-5.9604645e-08, dtype=float32), array(0.3623577, dtype=float32), array(0.76484215, dtype=float32)]\n",
      "experiments (mitigated):  [0.022390317700453997, 0.3906313645621186, 0.7582969721010189]\n"
     ]
    }
   ],
   "source": [
    "# use backend compiling system enabled by qos\n",
    "\n",
    "nqubit = 3\n",
    "shots = 8192\n",
    "c = tc.Circuit(nqubit)\n",
    "c.h(0)\n",
    "c.h(1)\n",
    "c.rx(2, theta=0.7)\n",
    "c.ry(1, theta=-1.2)\n",
    "c.cnot(0, 1)\n",
    "c.cnot(2, 0)\n",
    "c.h(1)\n",
    "\n",
    "print(\"exact: \", [np.real(c.expectation_ps(z=[i])) for i in range(nqubit)])\n",
    "\n",
    "t = apis.submit_task(\n",
    "    circuit=c,\n",
    "    shots=shots,\n",
    "    device=\"9gmon\",\n",
    "    compiled=False,\n",
    "    enable_qos_qubit_mapping=True,\n",
    "    enable_qos_gate_decomposition=True,\n",
    ")\n",
    "\n",
    "ct = t.results(blocked=True)\n",
    "\n",
    "mit = tc.results.readout_mitigation.ReadoutMit(\"9gmon\")\n",
    "mit.cals_from_system(3, method=\"local\")\n",
    "\n",
    "print(\n",
    "    \"experiments (mitigated): \",\n",
    "    [mit.expectation(ct, [i]) for i in range(nqubit)],\n",
    ")"
   ]
  },
  {
   "cell_type": "code",
   "execution_count": 11,
   "id": "cf2d2690",
   "metadata": {},
   "outputs": [
    {
     "data": {
      "text/plain": [
       "{'frontend': 'OPENQASM 2.0;\\ninclude \"qelib1.inc\";\\nqreg q[3];\\nh q[0];\\nh q[1];\\nrx(0.69999999) q[2];\\nry(-1.2) q[1];\\ncx q[0],q[1];\\ncx q[2],q[0];\\nh q[1];',\n",
       " 'backend': {'progs': [{'code': 'Tencent Quantum Program\\nversion 1.0\\nqubit involved: q0,q1,q2,q3,q4,q5,q6,q7,q8\\n# section: eqasm\\n# section lines 33\\neqasm program\\nbs 1 H q0\\nbs 0 H q1\\nbs 0 RZB2 q2\\nbs 1 S q2\\nbs 0 S q1\\nbs 1 H q2\\nbs 0 H q1\\nbs 1 RZB4 q2\\nbs 0 RZB5 q2\\nbs 0 RZB6 q2\\nbs 0 RZB9 q2\\nbs 0 RZB14 q2\\nbs 0 RZB16 q2\\nbs 0 RZB1 q1\\nbs 0 RZB2 q1\\nbs 0 RZB5 q1\\nbs 0 RZB6 q1\\nbs 0 RZB7 q1\\nbs 0 RZB8 q1\\nbs 0 RZB12 q1\\nbs 0 RZB13 q1\\nbs 0 RZB15 q1\\nbs 0 RZB16 q1\\nbs 1 H q2\\nbs 0 H q1\\nbs 1 SD q2\\nbs 0 SD q1\\nbs 1 RZB1 q2\\nbs 0 RZB2 q2\\nbs 0 CX (q0, q1)\\nbs 1 H q1\\nbs 0 CX (q2, q0)\\nMEASZ q0,q1,q2\\n# section: end\\n',\n",
       "    'lang': 'QEXE'}]}}"
      ]
     },
     "execution_count": 11,
     "metadata": {},
     "output_type": "execute_result"
    }
   ],
   "source": [
    "# inspect compiling results from the tc and qos for the task\n",
    "\n",
    "t.get_compiled_details()"
   ]
  },
  {
   "cell_type": "code",
   "execution_count": 16,
   "id": "7fee9a15",
   "metadata": {},
   "outputs": [
    {
     "name": "stdout",
     "output_type": "stream",
     "text": [
      "exact:  [array(-5.9604645e-08, dtype=float32), array(0.3623577, dtype=float32), array(0.76484215, dtype=float32)]\n"
     ]
    }
   ],
   "source": [
    "# dry run mode to query compiled circuit only from qos (not really sending the circuit to chips)\n",
    "\n",
    "nqubit = 3\n",
    "shots = 8192\n",
    "c = tc.Circuit(nqubit)\n",
    "c.h(0)\n",
    "c.h(1)\n",
    "c.rx(2, theta=0.7)\n",
    "c.ry(1, theta=-1.2)\n",
    "c.cnot(0, 1)\n",
    "c.cnot(2, 0)\n",
    "c.h(1)\n",
    "\n",
    "print(\"exact: \", [np.real(c.expectation_ps(z=[i])) for i in range(nqubit)])\n",
    "\n",
    "t = apis.submit_task(\n",
    "    circuit=c,\n",
    "    shots=shots,\n",
    "    device=\"9gmon\",\n",
    "    compiled=True,\n",
    "    enable_qos_qubit_mapping=True,\n",
    "    enable_qos_gate_decomposition=True,\n",
    "    qos_dry_run=True,\n",
    ")"
   ]
  },
  {
   "cell_type": "code",
   "execution_count": 17,
   "id": "e262a682",
   "metadata": {},
   "outputs": [
    {
     "data": {
      "text/plain": [
       "{'frontend': 'OPENQASM 2.0;\\ninclude \"qelib1.inc\";\\nqreg q[3];\\nh q[0];\\nh q[1];\\nrz(-pi/2) q[1];\\nh q[1];\\nrz(-1.2) q[1];\\nh q[1];\\nrz(5*pi/2) q[1];\\ncx q[0],q[1];\\nh q[1];\\nh q[2];\\nrz(0.69999999) q[2];\\nh q[2];\\ncx q[2],q[0];',\n",
       " 'backend': {'progs': [{'code': 'Tencent Quantum Program\\nversion 1.0\\nqubit involved: q0,q1,q2,q3,q4,q5,q6,q7,q8\\n# section: eqasm\\n# section lines 10\\neqasm program\\nbs 1 H q0\\nbs 0 H q1\\nbs 0 H q2\\nbs 1 H q1\\nbs 0 H q2\\nbs 1 H q1\\nbs 1 CX (q0, q1)\\nbs 1 H q1\\nbs 0 CX (q2, q0)\\nMEASZ q0,q1,q2\\n# section: end\\n',\n",
       "    'lang': 'QEXE'}]}}"
      ]
     },
     "execution_count": 17,
     "metadata": {},
     "output_type": "execute_result"
    }
   ],
   "source": [
    "t.get_compiled_details()"
   ]
  },
  {
   "cell_type": "markdown",
   "id": "ea015c48",
   "metadata": {},
   "source": [
    "## scalable readout simulation and mitigation\n",
    "\n",
    "Via TensorCircuit, we provide the capability to do scalable (20+ qubits) readout error simulation and mitigation"
   ]
  },
  {
   "cell_type": "code",
   "execution_count": 8,
   "id": "2b509155",
   "metadata": {},
   "outputs": [
    {
     "data": {
      "text/plain": [
       "{'000': 7725, '001': 261, '100': 164, '010': 33, '101': 9}"
      ]
     },
     "execution_count": 8,
     "metadata": {},
     "output_type": "execute_result"
    }
   ],
   "source": [
    "# scalable readout error simulation on tQuK with tensorcircuit backend using tensor network approach\n",
    "\n",
    "c = tc.Circuit(3)\n",
    "t = apis.submit_task(circuit=c, device=\"simulator:tcn1\", shots=8192)\n",
    "t.results(blocked=True)"
   ]
  },
  {
   "cell_type": "code",
   "execution_count": 9,
   "id": "71f634ff",
   "metadata": {},
   "outputs": [
    {
     "data": {
      "text/plain": [
       "{'000': 8192.0}"
      ]
     },
     "execution_count": 9,
     "metadata": {},
     "output_type": "execute_result"
    }
   ],
   "source": [
    "t.results(mitigated=True)"
   ]
  },
  {
   "cell_type": "code",
   "execution_count": null,
   "id": "7533330d",
   "metadata": {
    "scrolled": false
   },
   "outputs": [],
   "source": [
    "c = tc.Circuit(25)\n",
    "t = apis.submit_task(circuit=c, device=\"simulator:tcn1\", shots=8192)\n",
    "t.results(blocked=True)"
   ]
  },
  {
   "cell_type": "code",
   "execution_count": 14,
   "id": "cdfb639c",
   "metadata": {},
   "outputs": [],
   "source": [
    "# batch submission to the simulator\n",
    "cs = []\n",
    "for i in range(15):\n",
    "    c = tc.Circuit(15)\n",
    "    c.x(i)\n",
    "    cs.append(c)\n",
    "ts = apis.submit_task(circuit=cs, device=\"simulator:tcn1\", shots=8192)"
   ]
  },
  {
   "cell_type": "code",
   "execution_count": 2,
   "id": "f8d8217e",
   "metadata": {},
   "outputs": [
    {
     "data": {
      "text/plain": [
       "{'100000000000000': 8419.697440088592,\n",
       " '100100000000000': 70.62067781260015,\n",
       " '100000100000000': 32.06999431920804,\n",
       " '100000000000010': 21.05429511303664,\n",
       " '100000000100100': 12.737459534668831,\n",
       " '100000000010000': 6.717028675136155,\n",
       " '100000100000001': 5.517504244766566,\n",
       " '101000000000000': 5.343221628567916,\n",
       " '100000000000100': 5.316502711797031,\n",
       " '100101000000000': 5.055791656340502,\n",
       " '100000000100000': 4.583753814772621,\n",
       " '100000001010000': 4.563675472853387,\n",
       " '100100001000000': 4.200871093607515,\n",
       " '100000001000001': 4.037583611576253,\n",
       " '100000000100001': 3.993740071242359,\n",
       " '100000100000100': 3.620123993770483,\n",
       " '100100000000001': 3.331528047004301,\n",
       " '100000000000101': 2.9602206346214883,\n",
       " '110000000000100': 2.4447297020449055,\n",
       " '100100000000100': 2.1864507226578893,\n",
       " '100000101100000': 2.0581439661798693,\n",
       " '100000000000110': 1.6273556338878277,\n",
       " '110000001000000': 1.6165778033772777,\n",
       " '101000100000000': 1.5943040213903492,\n",
       " '100000100100000': 1.5109801589828913,\n",
       " '110001000000000': 1.4878748649195706,\n",
       " '101000000000001': 1.4554025461864313,\n",
       " '100000100010000': 1.4387429080263332,\n",
       " '100001001000000': 1.3911841049012317,\n",
       " '100000000110000': 1.27595864225905,\n",
       " '100001100000000': 1.1203274457975498,\n",
       " '100100000100010': 1.078941729230564,\n",
       " '100001100000010': 1.058872714188839,\n",
       " '110000000110000': 1.0071832705686932,\n",
       " '101100000001001': 0.9802634521345814,\n",
       " '100010000001000': 0.9411197364818454,\n",
       " '000000000100000': 0.9316389155910612,\n",
       " '101000001100000': 0.9175529942539858,\n",
       " '100011000000000': 0.9077887012464176,\n",
       " '100001000001100': 0.9014187801746705,\n",
       " '101000000000101': 0.8934662599445671,\n",
       " '000000000000100': 0.8930840706602694,\n",
       " '110000000100100': 0.8821880862632059,\n",
       " '101001000001000': 0.8781652435907243,\n",
       " '101100000001000': 0.8724239475595535,\n",
       " '100010000000100': 0.8345195977528056,\n",
       " '101100100000000': 0.8319641116304223,\n",
       " '100010100000000': 0.8218914654493159,\n",
       " '000001000000000': 0.8049948545166198,\n",
       " '101010000000000': 0.8000672364423292,\n",
       " '101001001000000': 0.7969743025592275,\n",
       " '100001000100000': 0.7956137409639294,\n",
       " '001000000000000': 0.789606059795129,\n",
       " '100100100000001': 0.7884318597525475,\n",
       " '100101000001000': 0.7415010114429998,\n",
       " '101001000100000': 0.6919729246648194,\n",
       " '100000000010001': 0.6798365988865034,\n",
       " '100001000000100': 0.6746774495099936,\n",
       " '100000001001000': 0.6656234863552265,\n",
       " '100000010001000': 0.6621556388191783,\n",
       " '100000001100100': 0.6345752195408909,\n",
       " '110000000001000': 0.6076581375075842,\n",
       " '100000010100000': 0.4745304454976847,\n",
       " '101000000100100': 0.44415633504428315,\n",
       " '101000000000010': 0.3724845125075598,\n",
       " '110000000100000': 0.25702564175016074,\n",
       " '100001000010000': 0.254962007546872,\n",
       " '101100000000000': 0.25345181627314156,\n",
       " '111000000000000': 0.20808484786196516,\n",
       " '100000000010100': 0.1832565235759075,\n",
       " '101000000010000': 0.09102957852547792,\n",
       " '100100000100000': 0.04365953380230936,\n",
       " '100100000000010': -0.027541754030945935,\n",
       " '100100000001000': -0.028714529367154015,\n",
       " '100000000001010': -0.09047987962965393,\n",
       " '100000100000010': -0.214103726888365,\n",
       " '101001000000000': -0.3152465552779923,\n",
       " '000100000000000': -0.3989564181995144,\n",
       " '101000000100000': -0.4118194835787859,\n",
       " '100001000000010': -0.47025162263150116,\n",
       " '100000000100010': -0.5690654957937074,\n",
       " '000000100000000': -0.6191879565167421,\n",
       " '100001000000001': -0.695357972540988,\n",
       " '100100100000000': -0.7175884771016332,\n",
       " '100001000001000': -0.7630782732138829,\n",
       " '100000000001001': -1.008694690776709,\n",
       " '101000000001000': -1.2504938465007915,\n",
       " '101000001000000': -1.4343739078734263,\n",
       " '100000000001100': -1.6129859188764608,\n",
       " '100000101000000': -1.7145196696995655,\n",
       " '100000001100000': -1.9094346951735794,\n",
       " '100000001000100': -2.878659473184994,\n",
       " '100000000101000': -3.5969775749822315,\n",
       " '100000100001000': -4.660489024999659,\n",
       " '100000010000000': -7.228177465795695,\n",
       " '101000000000100': -7.433443342353611,\n",
       " '100010000000000': -18.713786232606235,\n",
       " '110000000000000': -26.25306538585136,\n",
       " '100000001000000': -27.852335007043337,\n",
       " '100001000000000': -29.805593058690288,\n",
       " '100000000001000': -30.14314633475033,\n",
       " '100000000000001': -70.20285091373152,\n",
       " '000000000000000': -229.9578391969697}"
      ]
     },
     "execution_count": 2,
     "metadata": {},
     "output_type": "execute_result"
    }
   ],
   "source": [
    "# mitigated with m3 scalable on count dict\n",
    "c = tc.Circuit(15)\n",
    "c.x(0)\n",
    "t = apis.submit_task(circuit=c, device=\"simulator:tcn1\", shots=8192)\n",
    "\n",
    "mit = tc.results.readout_mitigation.ReadoutMit(\"simulator:tcn1\")\n",
    "mit.cals_from_system(15)\n",
    "\n",
    "raw_count = t.results(blocked=True)\n",
    "mit.apply_correction(raw_count, 15, method=\"M3_auto\")"
   ]
  },
  {
   "cell_type": "code",
   "execution_count": 3,
   "id": "292f9b11",
   "metadata": {},
   "outputs": [
    {
     "data": {
      "text/plain": [
       "-0.9987468671679187"
      ]
     },
     "execution_count": 3,
     "metadata": {},
     "output_type": "execute_result"
    }
   ],
   "source": [
    "# mitigated with m3 scalable directly on expectation: not a wrapper for count but a new algorithm!\n",
    "# see eq 6 in https://arxiv.org/pdf/2006.14044.pdf\n",
    "\n",
    "mit.expectation(raw_count, [0])"
   ]
  },
  {
   "cell_type": "markdown",
   "id": "bd454737",
   "metadata": {},
   "source": [
    "## list task and get previous task\n",
    "\n",
    "get history tasks"
   ]
  },
  {
   "cell_type": "code",
   "execution_count": 4,
   "id": "2b80411b",
   "metadata": {},
   "outputs": [
    {
     "data": {
      "text/plain": [
       "[tencent::9gmon?o=1~~0793030c-a3d0-426f-bf2c-0cb8ec4ad0b0,\n",
       " tencent::simulator:tcn1?o=3~~fdde7cb9-1738-4b82-becf-5add3bebdcc0,\n",
       " tencent::simulator:tcn1?o=3~~949ba88c-ba4f-44e1-b03b-e35873cc429e,\n",
       " tencent::simulator:tcn1?o=3~~a434a0d2-9d7e-46ff-ae42-e8397dd09cea,\n",
       " tencent::simulator:tcn1?o=3~~6462e2eb-cfb4-407a-bf93-12afe70ed73e,\n",
       " tencent::simulator:tcn1?o=3~~44bc1bba-628f-4739-9cf5-cc612059b635,\n",
       " tencent::simulator:tcn1?o=3~~67f33828-357e-49e8-a8f8-6ded2a16b5d3,\n",
       " tencent::simulator:tcn1?o=3~~e0e6660b-306d-494c-902b-630d656bc64d,\n",
       " tencent::simulator:tcn1?o=3~~13ac4aea-e6b7-469d-a67f-ad28a9dc16a0,\n",
       " tencent::simulator:tcn1?o=3~~dc53b3bf-48c5-43ee-a42c-8b140c14080d,\n",
       " tencent::simulator:tcn1?o=3~~53a949b9-a763-4cce-b11d-1d83b65095b3,\n",
       " tencent::simulator:tcn1?o=3~~7fdb1e4c-801a-4236-8ec8-be61101ff499,\n",
       " tencent::simulator:tcn1?o=3~~e7819297-e989-4620-840a-b15a6f988a1a,\n",
       " tencent::simulator:tcn1?o=3~~29ca9ff7-1063-4477-b827-e2e11613ef46,\n",
       " tencent::simulator:tcn1?o=3~~aa05e4e2-72fb-4b0b-969e-56c65cd7e4cc,\n",
       " tencent::simulator:tcn1?o=3~~5f006fe4-1a1f-47ab-b12d-34c6ed4d9040,\n",
       " tencent::simulator:tcn1?o=3~~7bea264d-e714-45d7-8893-3310b73ab168,\n",
       " tencent::simulator:tcn1?o=3~~48dbd262-aaab-48e2-96de-fd6396a24284,\n",
       " tencent::simulator:tcn1?o=3~~054b7901-6b36-44e6-9f71-c9a360e7b4a4,\n",
       " tencent::simulator:tcn1?o=3~~fcf97cbd-ff78-4a0e-8cfe-aa11309dba99,\n",
       " tencent::simulator:tcn1?o=3~~bd4c8937-e3dd-4f84-ab6f-20dc33096aea,\n",
       " tencent::simulator:tcn1?o=3~~b4900bf6-ef83-46bd-8735-e941679b88fc,\n",
       " tencent::simulator:tcn1?o=3~~b093b1cd-ff4b-42b9-9db7-b0983dc0e503,\n",
       " tencent::simulator:tcn1?o=3~~3d151c82-e441-4b13-aebd-57cd896f1577,\n",
       " tencent::simulator:tcn1?o=3~~6e38b4b3-eddb-414b-afd8-ae45a48966bd,\n",
       " tencent::simulator:tcn1?o=3~~987b17fd-79d6-4099-9601-d26d42a29d14,\n",
       " tencent::simulator:tcn1?o=3~~20485921-564a-45b1-9e07-276048b29de9,\n",
       " tencent::simulator:tcn1?o=3~~59b3cd63-0126-4f8d-a4e8-1b8e6994a3ed,\n",
       " tencent::simulator:tcn1?o=3~~136cdf82-081f-4b90-8f2e-00dcfea4e08d,\n",
       " tencent::simulator:tcn1?o=3~~70549fd3-67aa-4e42-b474-b29b313e8278,\n",
       " tencent::simulator:tcn1?o=3~~2da1a4bc-81a6-4f6d-82a0-60cebd5f6e0f,\n",
       " tencent::simulator:tcn1?o=3~~81a6884d-c4ad-423c-ae2d-9799f56d550b,\n",
       " tencent::simulator:tcn1?o=3~~8253dba0-9cf6-46e1-8eaa-63d04cbdf7ec,\n",
       " tencent::simulator:tcn1?o=3~~dde2431f-6815-436b-ac16-a80050a1e27a,\n",
       " tencent::simulator:tcn1?o=3~~442d8839-25c4-4f26-8d53-1f723941ce7a,\n",
       " tencent::simulator:tcn1?o=3~~546090a9-31d5-441a-bc6a-ed5e12c3f9ad,\n",
       " tencent::simulator:tcn1?o=3~~227ae13c-04a0-41e0-a0aa-1c8ea77c0b7a,\n",
       " tencent::simulator:tcn1?o=3~~dc1b5b60-6ccd-4ca5-96e3-458e41ad8ca9,\n",
       " tencent::simulator:tcn1?o=3~~d5712b1c-0988-4f3f-8347-56b91492b4dc,\n",
       " tencent::simulator:tcn1?o=3~~0bbb4222-117c-47cc-be50-b0dbbee22ee2,\n",
       " tencent::simulator:tcn1?o=3~~a5a87e9a-8990-4ed9-86bc-066b6a4f5a1d,\n",
       " tencent::simulator:tcn1?o=3~~8589e1f2-8e35-467a-b45b-810ff5d5281a,\n",
       " tencent::simulator:tcn1?o=3~~d1d2dcd0-e6d5-4dd4-be97-ec3e7fc808b5,\n",
       " tencent::simulator:tcn1?o=3~~cd68b30a-3319-45ed-9931-af4b41e7af09,\n",
       " tencent::simulator:tcn1?o=3~~b1d450cb-ebfc-478d-9c4f-0d6b0ef7418d,\n",
       " tencent::simulator:tcn1?o=3~~dc48ba37-2760-4da2-b348-b6c1190c2ca2,\n",
       " tencent::simulator:tcn1?o=3~~ee45ae23-3b99-4507-8110-f6eeece30eaf,\n",
       " tencent::simulator:tcn1?o=3~~bcc806e5-a021-44f8-83ce-aba9d054cf75,\n",
       " tencent::9gmon?o=0~~5d2d8e11-760e-4f88-b003-5b5901edbf21,\n",
       " tencent::9gmon?o=0~~8e3a77f7-838e-4d08-a75a-b864704b89e3]"
      ]
     },
     "execution_count": 4,
     "metadata": {},
     "output_type": "execute_result"
    }
   ],
   "source": [
    "apis.list_tasks()"
   ]
  },
  {
   "cell_type": "code",
   "execution_count": 5,
   "id": "8dffbcfd",
   "metadata": {},
   "outputs": [
    {
     "data": {
      "text/plain": [
       "[tencent::9gmon?o=1~~0793030c-a3d0-426f-bf2c-0cb8ec4ad0b0,\n",
       " tencent::9gmon?o=0~~5d2d8e11-760e-4f88-b003-5b5901edbf21,\n",
       " tencent::9gmon?o=0~~8e3a77f7-838e-4d08-a75a-b864704b89e3,\n",
       " tencent::9gmon?o=0~~e3c137fc-e478-48f6-bc89-c077c1a3cd9e,\n",
       " tencent::9gmon?o=0~~7a251212-f21d-46f1-976d-9a5ba066bb40,\n",
       " tencent::9gmon?o=0~~6445a6bf-9cf8-4b7d-af6f-aeeb5f4989ef,\n",
       " tencent::9gmon?o=0~~91be022d-afd5-414e-8776-88acb6f1d3dd,\n",
       " tencent::9gmon?o=0~~f962fbd8-dffc-4369-b2e6-696c3db561ed,\n",
       " tencent::9gmon?o=0~~26dc60ad-f9c1-4d82-bd87-266c8520bd90,\n",
       " tencent::9gmon?o=0~~d841bb5b-5549-488c-b660-47f59e129a7b,\n",
       " tencent::9gmon?o=2~~315fb708-c9da-4a53-b2ac-c206e563620b,\n",
       " tencent::9gmon?o=0~~198b0d28-1c9b-400c-aecc-af926d789c1e,\n",
       " tencent::9gmon~~27562978-1588-4314-8517-782fd7b27265,\n",
       " tencent::9gmon~~bcc06a7a-350d-4b6a-b536-829eca1cf07f,\n",
       " tencent::9gmon~~b0a0c0ab-d902-457c-97c8-0a731d0982d8,\n",
       " tencent::9gmon~~c64a78d3-54c8-40f1-b64f-f7027890368b,\n",
       " tencent::9gmon?o=3~~ebceb01d-9902-4879-b4c1-be39c2dd0053,\n",
       " tencent::9gmon?o=2&dry~~45101e92-70aa-49f0-805b-f5187b6da72f,\n",
       " tencent::9gmon?o=3~~135fc458-54f1-4f7f-bcc2-4922682e25cd,\n",
       " tencent::9gmon?o=3~~9f510558-1151-49e8-8f21-e9a8b344cdf6,\n",
       " tencent::9gmon~~98574130-e4ee-4b16-afe7-ec09a245cf86,\n",
       " tencent::9gmon~~0e76f4da-ec80-47c7-9d16-bd837afc6905,\n",
       " tencent::9gmon~~a2b185d4-9684-4d2e-8bb5-ec5087ddd882,\n",
       " tencent::9gmon~~787a9b09-6c62-40b6-a9e6-f172d73ea300,\n",
       " tencent::9gmon~~e621f4f7-9f83-4dd5-ae8e-43ba336a3c86,\n",
       " tencent::9gmon~~638246cf-f642-4cab-9959-8f007e45bfd3,\n",
       " tencent::9gmon~~d341e961-b05e-465a-82bf-fb85b4614a6a,\n",
       " tencent::9gmon~~45fa081f-9834-4d53-a72e-9bec73d02a6d,\n",
       " tencent::9gmon~~62bca49a-ecee-43fe-a27e-76d48021f66a,\n",
       " tencent::9gmon~~91cb4589-d840-492d-bad1-800517cc80a4,\n",
       " tencent::9gmon~~0d7c82d6-b71b-442e-a7a2-923452daf279,\n",
       " tencent::9gmon~~5453692b-1a5f-4a3e-9689-a407d5bd787c,\n",
       " tencent::9gmon~~4ab5e201-0784-476e-b23b-551fbac1772a,\n",
       " tencent::9gmon~~9fd46395-3bed-49b1-a262-4afc49bb545a,\n",
       " tencent::9gmon~~a458a62d-f270-4921-a0dd-9cf8b57e4581,\n",
       " tencent::9gmon~~f5bfd675-afbc-4e92-ac06-dd1f780bf0e2,\n",
       " tencent::9gmon~~4c483a0d-0aa4-49b5-803b-f0cacf5d5c50,\n",
       " tencent::9gmon~~f5ff62ae-df69-46fd-806d-b294ac8cfb90,\n",
       " tencent::9gmon~~dbb9dc21-ffed-4004-a755-76f183ade2a8,\n",
       " tencent::9gmon~~ea84339e-2c6a-46f6-b3c9-6f422df68d87,\n",
       " tencent::9gmon~~cb2531bf-e730-46b7-ab3a-11ece77303f8,\n",
       " tencent::9gmon?o=3&dry~~a0186d54-c93a-4abf-b81f-c5b69bef733c,\n",
       " tencent::9gmon?o=1&dry~~d990b42e-6c15-488c-8524-96a9fef48316,\n",
       " tencent::9gmon?o=1~~06764d75-a365-4d6e-a1b3-40eacc84f527,\n",
       " tencent::9gmon?o=1~~d12859da-ac27-4990-9217-5f7b582928fc,\n",
       " tencent::9gmon?o=1~~d437ebbc-9f4b-44df-a07c-70ebdca9bfbc,\n",
       " tencent::9gmon?o=1~~234e6a65-59ab-4736-9e89-6aba5a8cce6a,\n",
       " tencent::9gmon?o=1~~f532daa7-f9af-4311-befa-910589cd7826,\n",
       " tencent::9gmon?o=1~~ffbb1a37-632c-4b2c-a2d6-faa59b1f6c6b,\n",
       " tencent::9gmon?o=1~~c1e99c59-1aca-4487-a7d1-96cb878feabf]"
      ]
     },
     "execution_count": 5,
     "metadata": {},
     "output_type": "execute_result"
    }
   ],
   "source": [
    "apis.list_tasks(device=\"9gmon\")"
   ]
  },
  {
   "cell_type": "code",
   "execution_count": 6,
   "id": "5e29190d",
   "metadata": {},
   "outputs": [],
   "source": [
    "t = apis.get_task(\"d77bec2f-ab07-4dbc-a273-caa8b23a921c\")"
   ]
  },
  {
   "cell_type": "code",
   "execution_count": 7,
   "id": "d24ddc18",
   "metadata": {
    "scrolled": false
   },
   "outputs": [
    {
     "data": {
      "text/plain": [
       "{'id': 'd77bec2f-ab07-4dbc-a273-caa8b23a921c',\n",
       " 'queue': 'txqlab',\n",
       " 'device': '9gmon',\n",
       " 'state': 'completed',\n",
       " 'shots': 4096,\n",
       " 'at': 1670549560020389,\n",
       " 'ts': {'completed': 1670549560020389,\n",
       "  'pending': 1670549557999879,\n",
       "  'scheduled': 1670549557997345},\n",
       " 'md5': '4a2e4269b3a3e78e0f6509ba78d9bdd8',\n",
       " 'runAt': 1670549557,\n",
       " 'runDur': 2000,\n",
       " 'source': 'OPENQASM 2.0;\\ninclude \"qelib1.inc\";\\nqreg q[3];\\nh q[0];\\nrz(-pi/2) q[1];\\nh q[1];\\ncx q[0],q[1];\\nrz(-1.4) q[1];\\ncx q[0],q[1];\\nrz(-1.4) q[1];\\nh q[1];\\nrz(5*pi/2) q[1];\\nh q[1];\\nrz(-pi/2) q[2];\\nh q[2];\\ncx q[0],q[2];\\nrz(1.4) q[2];\\ncx q[0],q[2];\\nrz(-1.4) q[2];\\nh q[2];\\nrz(5*pi/2) q[2];\\nh q[2];',\n",
       " 'version': '1',\n",
       " 'lang': 'OPENQASM',\n",
       " 'prior': 1,\n",
       " 'result': {'000': 492,\n",
       "  '001': 599,\n",
       "  '010': 589,\n",
       "  '011': 685,\n",
       "  '100': 255,\n",
       "  '101': 518,\n",
       "  '110': 363,\n",
       "  '111': 595},\n",
       " 'optimization': {},\n",
       " 'results': {'000': 492,\n",
       "  '001': 599,\n",
       "  '010': 589,\n",
       "  '011': 685,\n",
       "  '100': 255,\n",
       "  '101': 518,\n",
       "  '110': 363,\n",
       "  '111': 595}}"
      ]
     },
     "execution_count": 7,
     "metadata": {},
     "output_type": "execute_result"
    }
   ],
   "source": [
    "t.details()"
   ]
  },
  {
   "cell_type": "code",
   "execution_count": 8,
   "id": "706c9c08",
   "metadata": {},
   "outputs": [],
   "source": [
    "t = apis.get_task(\"tencent::9gmon~~e32bb488-5ee9-4b07-8217-1e78ceb4bde3\")"
   ]
  },
  {
   "cell_type": "code",
   "execution_count": 9,
   "id": "8ad61cb9",
   "metadata": {},
   "outputs": [
    {
     "data": {
      "text/plain": [
       "{'id': 'e32bb488-5ee9-4b07-8217-1e78ceb4bde3',\n",
       " 'queue': 'txq.low',\n",
       " 'device': '9gmon',\n",
       " 'state': 'completed',\n",
       " 'shots': 8192,\n",
       " 'at': 1671158467283362,\n",
       " 'ts': {'completed': 1671158467283362,\n",
       "  'pending': 1671158406209032,\n",
       "  'scheduled': 1671158406206228},\n",
       " 'md5': 'e2b1202e83341de33b19b9acce1e795d',\n",
       " 'runAt': 1671158405,\n",
       " 'runDur': 61000,\n",
       " 'source': 'OPENQASM 2.0;\\ninclude \"qelib1.inc\";\\nqreg q[3];\\nx q[0];\\nx q[1];\\nx q[2];',\n",
       " 'version': '1',\n",
       " 'lang': 'OPENQASM',\n",
       " 'prior': 1,\n",
       " 'result': {'000': 8,\n",
       "  '001': 39,\n",
       "  '010': 28,\n",
       "  '011': 367,\n",
       "  '100': 41,\n",
       "  '101': 493,\n",
       "  '110': 530,\n",
       "  '111': 6686},\n",
       " 'optimization': {},\n",
       " 'results': {'000': 8,\n",
       "  '001': 39,\n",
       "  '010': 28,\n",
       "  '011': 367,\n",
       "  '100': 41,\n",
       "  '101': 493,\n",
       "  '110': 530,\n",
       "  '111': 6686}}"
      ]
     },
     "execution_count": 9,
     "metadata": {},
     "output_type": "execute_result"
    }
   ],
   "source": [
    "t.details()"
   ]
  },
  {
   "cell_type": "code",
   "execution_count": null,
   "id": "06dc69f2",
   "metadata": {},
   "outputs": [],
   "source": []
  }
 ],
 "metadata": {
  "kernelspec": {
   "display_name": "Python 3 (ipykernel)",
   "language": "python",
   "name": "python3"
  },
  "language_info": {
   "codemirror_mode": {
    "name": "ipython",
    "version": 3
   },
   "file_extension": ".py",
   "mimetype": "text/x-python",
   "name": "python",
   "nbconvert_exporter": "python",
   "pygments_lexer": "ipython3",
   "version": "3.8.0"
  }
 },
 "nbformat": 4,
 "nbformat_minor": 5
}
