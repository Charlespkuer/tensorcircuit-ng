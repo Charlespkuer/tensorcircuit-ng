{
 "cells": [
  {
   "cell_type": "markdown",
   "id": "38c73e8c",
   "metadata": {},
   "source": [
    "# tensorcircuit SDK for QCloud（230109 ver）"
   ]
  },
  {
   "cell_type": "markdown",
   "id": "f77a17c8",
   "metadata": {},
   "source": [
    "## import the package\n",
    "\n",
    "``apis`` is temporarily as the entry point submodule for qcloud"
   ]
  },
  {
   "cell_type": "code",
   "execution_count": null,
   "id": "8595b0b0",
   "metadata": {},
   "outputs": [],
   "source": [
    "import tensorcircuit as tc\n",
    "from tensorcircuit.cloud import apis\n",
    "import numpy as np"
   ]
  },
  {
   "cell_type": "markdown",
   "id": "faece4fa",
   "metadata": {},
   "source": [
    "## setup the token\n",
    "\n",
    "The users need an API token from tQuK to connect to the server and submit tasks, the token only need be set once and it is then written to the local computer"
   ]
  },
  {
   "cell_type": "code",
   "execution_count": null,
   "id": "06e38047",
   "metadata": {},
   "outputs": [],
   "source": [
    "apis.set_token(\"foobar\")\n",
    "# only required running once for a given laptop"
   ]
  },
  {
   "cell_type": "markdown",
   "id": "f3e53835",
   "metadata": {},
   "source": [
    "## list providers/devices/properties"
   ]
  },
  {
   "cell_type": "code",
   "execution_count": null,
   "id": "59dc5c6f",
   "metadata": {},
   "outputs": [],
   "source": [
    "apis.list_providers()"
   ]
  },
  {
   "cell_type": "code",
   "execution_count": null,
   "id": "d231e5c3",
   "metadata": {},
   "outputs": [],
   "source": [
    "apis.list_devices(\"tencent\")"
   ]
  },
  {
   "cell_type": "code",
   "execution_count": null,
   "id": "e2ab9a2c",
   "metadata": {},
   "outputs": [],
   "source": [
    "apis.list_properties(device=\"9gmon\")"
   ]
  },
  {
   "cell_type": "code",
   "execution_count": null,
   "id": "aaec43c3",
   "metadata": {},
   "outputs": [],
   "source": [
    "apis.list_properties(device=\"simulator:tcn1\")"
   ]
  },
  {
   "cell_type": "markdown",
   "id": "148b9b40",
   "metadata": {},
   "source": [
    "## Task submit and the results"
   ]
  },
  {
   "cell_type": "code",
   "execution_count": null,
   "id": "94404d7a",
   "metadata": {},
   "outputs": [],
   "source": [
    "c = tc.Circuit(1)\n",
    "c.H(0)\n",
    "\n",
    "t = apis.submit_task(device=\"simulator:tc\", circuit=c, shots=1024)\n",
    "print(t.details())\n",
    "t.results(blocked=True)"
   ]
  },
  {
   "cell_type": "markdown",
   "id": "fab152bb",
   "metadata": {},
   "source": [
    "``blocked=True`` can wait until the task is finished or failed (rasing an error)"
   ]
  },
  {
   "cell_type": "code",
   "execution_count": null,
   "id": "617cbd84",
   "metadata": {},
   "outputs": [],
   "source": [
    "t.status()"
   ]
  },
  {
   "cell_type": "code",
   "execution_count": null,
   "id": "a6e686be",
   "metadata": {},
   "outputs": [],
   "source": [
    "t.get_device()"
   ]
  },
  {
   "cell_type": "code",
   "execution_count": null,
   "id": "77dddd16",
   "metadata": {},
   "outputs": [],
   "source": [
    "# resubmit a job\n",
    "t1 = t.resubmit()\n",
    "t1.details(blocked=True, prettify=True)"
   ]
  },
  {
   "cell_type": "markdown",
   "id": "e227f48a",
   "metadata": {},
   "source": [
    "``t.details`` can also permit the ``blocked=True`` option, which waits until the task is finished or failed (no error raised).\n",
    "\n",
    "Also note by using ``prettfiy=True`` option, we have python datatime object for the timestamp which is easy to read but hard for io (not directly json serializable anymore) "
   ]
  },
  {
   "cell_type": "markdown",
   "id": "8c795e68",
   "metadata": {},
   "source": [
    "## local provider enable quick debugging and testing"
   ]
  },
  {
   "cell_type": "code",
   "execution_count": null,
   "id": "570159fe",
   "metadata": {},
   "outputs": [],
   "source": [
    "apis.set_provider(\"local\")\n",
    "# using tc simulator on local device: your own laptop is your server\n",
    "apis.list_devices()"
   ]
  },
  {
   "cell_type": "code",
   "execution_count": null,
   "id": "fd99ee01",
   "metadata": {},
   "outputs": [],
   "source": [
    "c = tc.Circuit(2)\n",
    "c.h(0)\n",
    "c.cx(0, 1)\n",
    "\n",
    "# exactly the same API as tQuK\n",
    "t = apis.submit_task(circuit=c, device=\"testing\", shots=8192)\n",
    "t.results(blocked=True)"
   ]
  },
  {
   "cell_type": "code",
   "execution_count": null,
   "id": "bb62ed45",
   "metadata": {},
   "outputs": [],
   "source": [
    "tl = apis.list_tasks()\n",
    "tl"
   ]
  },
  {
   "cell_type": "code",
   "execution_count": null,
   "id": "045a19ef",
   "metadata": {},
   "outputs": [],
   "source": [
    "id_ = tl[0].__str__()\n",
    "print(id_)\n",
    "t = apis.get_task(id_)\n",
    "t.details()"
   ]
  },
  {
   "cell_type": "code",
   "execution_count": null,
   "id": "510f8d82",
   "metadata": {},
   "outputs": [],
   "source": [
    "id_ = tl[0].__str__()\n",
    "print(id_.split(\"~~\")[1])\n",
    "t = apis.get_task(id_)\n",
    "t.details()"
   ]
  },
  {
   "cell_type": "markdown",
   "id": "2e359725",
   "metadata": {},
   "source": [
    "The task can indexed either with device information or not (as long as we use ``set_provider``)"
   ]
  },
  {
   "cell_type": "code",
   "execution_count": null,
   "id": "307eeb42",
   "metadata": {},
   "outputs": [],
   "source": [
    "# back to tencent server for demonstration below\n",
    "apis.set_provider(\"tencent\")"
   ]
  },
  {
   "cell_type": "markdown",
   "id": "9bf0d5ca",
   "metadata": {},
   "source": [
    "## GHZ on real device and readout mitigation"
   ]
  },
  {
   "cell_type": "code",
   "execution_count": null,
   "id": "2cc7c82c",
   "metadata": {},
   "outputs": [],
   "source": [
    "nqubit = 9\n",
    "shots = 4096\n",
    "c = tc.Circuit(nqubit)\n",
    "c.H(8)\n",
    "c.cnot(8, 4)\n",
    "c.cnot(4, 0)\n",
    "c.cnot(0, 2)\n",
    "c.cnot(2, 6)\n",
    "\n",
    "t = apis.submit_task(\n",
    "    circuit=c, shots=shots, device=\"9gmon\", enable_qos_qubit_mapping=False\n",
    ")\n",
    "raw_count = t.results(blocked=True)\n",
    "# blocked = True will block the process until the result is returned\n",
    "# the default behavior is blocked=False, where only one query is made and raise error when the task is incomplete"
   ]
  },
  {
   "cell_type": "markdown",
   "id": "80b617b4",
   "metadata": {},
   "source": [
    "In the below, we use tensorcircuit builtin powerful tool for readout mitigation: ``tc.results.readout_mitigation.ReadoutMit``, it supports various method for calibriation and mitigation"
   ]
  },
  {
   "cell_type": "code",
   "execution_count": null,
   "id": "f2ed2419",
   "metadata": {},
   "outputs": [],
   "source": [
    "ReadoutMit = tc.results.readout_mitigation.ReadoutMit\n",
    "mit = ReadoutMit(\"9gmon?o=0\")\n",
    "mit.cals_from_system(nqubit, shots, method=\"local\")\n",
    "miti_count = mit.apply_correction(raw_count, nqubit, \"square\")"
   ]
  },
  {
   "cell_type": "markdown",
   "id": "07cacbed",
   "metadata": {},
   "source": [
    "By attaching ``?o=0`` after the device string, we have the same effect of setting ``enable_qos_qubit_mapping=False`` (o=1)\n",
    "and ``enable_qos_gate_decomposition=False`` (o=2), and both of them of by default True (o=3)"
   ]
  },
  {
   "cell_type": "code",
   "execution_count": null,
   "id": "139700b3",
   "metadata": {},
   "outputs": [],
   "source": [
    "raw_count = tc.results.counts.marginal_count(raw_count, [8, 4, 0, 2, 6])\n",
    "miti_count = tc.results.counts.marginal_count(miti_count, [8, 4, 0, 2, 6])\n",
    "# only keep the result for qubit 8, 4, 0, 2, 6 and in that exact order"
   ]
  },
  {
   "cell_type": "code",
   "execution_count": null,
   "id": "093ec74c",
   "metadata": {},
   "outputs": [],
   "source": [
    "from qiskit.visualization import plot_histogram\n",
    "\n",
    "plot_histogram([raw_count, miti_count])"
   ]
  },
  {
   "cell_type": "code",
   "execution_count": null,
   "id": "e4bd6569",
   "metadata": {},
   "outputs": [],
   "source": [
    "ideal_count = tc.results.counts.vec2count(c.probability(), prune=True)\n",
    "# we can obtain analytic count results by ``c.probability()`` method, and ``vec2count`` with transform the vector as a dict\n",
    "\n",
    "ideal_count = tc.results.counts.marginal_count(ideal_count, [8, 4, 0, 2, 6])\n",
    "tc.results.counts.kl_divergence(\n",
    "    ideal_count, raw_count\n",
    "), tc.results.counts.kl_divergence(ideal_count, miti_count)"
   ]
  },
  {
   "cell_type": "code",
   "execution_count": null,
   "id": "91720f2c",
   "metadata": {},
   "outputs": [],
   "source": [
    "# we can directly check local readout matrix on each qubit\n",
    "print(\"readout matrix\")\n",
    "for i, m in enumerate(mit.single_qubit_cals):\n",
    "    print(\"qubit %s:\" % i)\n",
    "    print(m)"
   ]
  },
  {
   "cell_type": "markdown",
   "id": "f13baa43",
   "metadata": {},
   "source": [
    "batch submission is possible with multiple circuits in a list and the return is a list of task, respectively"
   ]
  },
  {
   "cell_type": "code",
   "execution_count": null,
   "id": "db3e59b5",
   "metadata": {},
   "outputs": [],
   "source": [
    "# we can also do a batch submission for the real hardware chip, simply by provide a circuit list\n",
    "\n",
    "c = tc.Circuit(2)\n",
    "c.h(0)\n",
    "\n",
    "c1 = tc.Circuit(2)\n",
    "c1.h(1)\n",
    "\n",
    "ts = apis.submit_task(device=\"9gmon\", circuit=[c, c1], shots=1024)\n",
    "\n",
    "for t in ts:\n",
    "    print(t.results(blocked=True))"
   ]
  },
  {
   "cell_type": "markdown",
   "id": "4d2c56b6",
   "metadata": {},
   "source": [
    "## three approaches for measure on partial of the qubits\n",
    "\n",
    "Note the return order should ideally follow the measure order in the instructions (wait to be fixed both on simulator backend and on the return from the real chips, can skip this section for now)"
   ]
  },
  {
   "cell_type": "code",
   "execution_count": null,
   "id": "9d7abd03",
   "metadata": {},
   "outputs": [],
   "source": [
    "# directly partial measure\n",
    "\n",
    "# approach 1\n",
    "nqubit = 9\n",
    "shots = 4096\n",
    "c = tc.Circuit(nqubit)\n",
    "c.x(8)\n",
    "c.x(6)\n",
    "\n",
    "t = apis.submit_task(circuit=c, shots=shots, device=\"9gmon?o=0\", measure=[8, 2, 6])\n",
    "print(t.results(blocked=True))"
   ]
  },
  {
   "cell_type": "code",
   "execution_count": null,
   "id": "9ac0b2fe",
   "metadata": {},
   "outputs": [],
   "source": [
    "# directly partial measure\n",
    "\n",
    "# approach 2\n",
    "from qiskit.circuit import QuantumCircuit\n",
    "\n",
    "qc = QuantumCircuit(9, 9)\n",
    "qc.x(8)\n",
    "qc.x(6)\n",
    "qc.measure(8, 8)\n",
    "qc.measure(2, 2)\n",
    "qc.measure(6, 6)\n",
    "\n",
    "t = apis.submit_task(circuit=qc, shots=shots, device=\"9gmon?o=0\")\n",
    "print(t.results(blocked=True))"
   ]
  },
  {
   "cell_type": "markdown",
   "id": "7ea3ea0f",
   "metadata": {},
   "source": [
    " The above case also indicates that tc ``submit_task`` API directly support Qiskit ``QuantumCircuit`` object"
   ]
  },
  {
   "cell_type": "code",
   "execution_count": null,
   "id": "5ce371e9",
   "metadata": {},
   "outputs": [],
   "source": [
    "# directly partial measure\n",
    "\n",
    "# approach 3, recommended approach\n",
    "\n",
    "nqubit = 9\n",
    "shots = 4096\n",
    "c = tc.Circuit(nqubit)\n",
    "c.x(8)\n",
    "c.x(6)\n",
    "c.measure_instruction(8)\n",
    "c.measure_instruction(2)\n",
    "c.measure_instruction(6)\n",
    "\n",
    "t = apis.submit_task(circuit=c, shots=shots, device=\"9gmon?o=0\")\n",
    "print(t.results(blocked=True))"
   ]
  },
  {
   "cell_type": "code",
   "execution_count": null,
   "id": "2f9a47c6",
   "metadata": {},
   "outputs": [],
   "source": [
    "# partial measurment also supported via the simulator"
   ]
  },
  {
   "cell_type": "code",
   "execution_count": null,
   "id": "c6150317",
   "metadata": {},
   "outputs": [],
   "source": [
    "nqubit = 9\n",
    "shots = 4096\n",
    "c = tc.Circuit(nqubit)\n",
    "c.x(8)\n",
    "c.x(6)\n",
    "c.measure_instruction(8)\n",
    "c.measure_instruction(2)\n",
    "c.measure_instruction(6)\n",
    "\n",
    "t = apis.submit_task(circuit=c, shots=shots, device=\"simulator:tc\")\n",
    "print(t.results(blocked=True))"
   ]
  },
  {
   "cell_type": "code",
   "execution_count": null,
   "id": "40bdf80d",
   "metadata": {},
   "outputs": [],
   "source": [
    "nqubit = 9\n",
    "shots = 4096\n",
    "c = tc.Circuit(nqubit)\n",
    "c.x(8)\n",
    "c.x(6)\n",
    "c.measure_instruction(8)\n",
    "c.measure_instruction(2)\n",
    "c.measure_instruction(6)\n",
    "\n",
    "t = apis.submit_task(circuit=c, shots=shots, device=\"simulator:aer\")\n",
    "print(t.results(blocked=True))"
   ]
  },
  {
   "cell_type": "markdown",
   "id": "20b8b1d5",
   "metadata": {},
   "source": [
    "## two level compiling system\n",
    "\n",
    "We provide compiling support at frond end (via tc-qiskit pipeline) and at back end (in qos).\n",
    "The front end option is enabled by ``compiled-True`` (default to False) and also with an optional dict for ``qiskit.transpile`` arguments called ``compiled_options``. The backend qos compiling is controlled by ``enable_qos_qubit_mapping`` and ``enable_qos_gate_decomposition`` (all default to True). The ``?o=int`` str after the device name can overide qos compiling options."
   ]
  },
  {
   "cell_type": "code",
   "execution_count": null,
   "id": "03aed751",
   "metadata": {},
   "outputs": [],
   "source": [
    "# directly use built-in mitigation with expectation evaluation + front-end (tc/qiskit) compiling system\n",
    "\n",
    "nqubit = 3\n",
    "shots = 8192\n",
    "c = tc.Circuit(nqubit)\n",
    "c.h(0)\n",
    "c.h(1)\n",
    "c.rx(2, theta=0.7)\n",
    "c.ry(1, theta=-1.2)\n",
    "c.cnot(0, 1)\n",
    "c.cnot(2, 0)\n",
    "c.h(1)\n",
    "\n",
    "print(\"exact: \", [np.real(c.expectation_ps(z=[i])) for i in range(nqubit)])\n",
    "t = apis.submit_task(\n",
    "    circuit=c,\n",
    "    shots=shots,\n",
    "    device=\"9gmon\",\n",
    "    compiled=True,\n",
    "    enable_qos_qubit_mapping=False,\n",
    "    enable_qos_gate_decomposition=False,\n",
    ")\n",
    "\n",
    "ct = t.results(blocked=True)\n",
    "\n",
    "mit = tc.results.readout_mitigation.ReadoutMit(\"9gmon?o=0\")\n",
    "mit.cals_from_system(3, method=\"local\")\n",
    "\n",
    "print(\n",
    "    \"experiments (mitigated): \",\n",
    "    [mit.expectation(ct, [i]) for i in range(nqubit)],\n",
    ")"
   ]
  },
  {
   "cell_type": "code",
   "execution_count": null,
   "id": "bd760c6b",
   "metadata": {
    "scrolled": true
   },
   "outputs": [],
   "source": [
    "c.draw()"
   ]
  },
  {
   "cell_type": "code",
   "execution_count": null,
   "id": "a45fa6f5",
   "metadata": {},
   "outputs": [],
   "source": [
    "# use backend compiling system enabled by qos\n",
    "\n",
    "nqubit = 3\n",
    "shots = 8192\n",
    "c = tc.Circuit(nqubit)\n",
    "c.h(0)\n",
    "c.h(1)\n",
    "c.rx(2, theta=0.7)\n",
    "c.ry(1, theta=-1.2)\n",
    "c.cnot(0, 1)\n",
    "c.cnot(2, 0)\n",
    "c.h(1)\n",
    "\n",
    "print(\"exact: \", [np.real(c.expectation_ps(z=[i])) for i in range(nqubit)])\n",
    "\n",
    "t = apis.submit_task(\n",
    "    circuit=c,\n",
    "    shots=shots,\n",
    "    device=\"9gmon\",\n",
    "    compiled=False,\n",
    "    enable_qos_qubit_mapping=True,\n",
    "    enable_qos_gate_decomposition=True,\n",
    ")\n",
    "\n",
    "ct = t.results(blocked=True)\n",
    "\n",
    "mit = tc.results.readout_mitigation.ReadoutMit(\"9gmon\")\n",
    "mit.cals_from_system(3, method=\"local\")\n",
    "\n",
    "print(\n",
    "    \"experiments (mitigated): \",\n",
    "    [mit.expectation(ct, [i]) for i in range(nqubit)],\n",
    ")"
   ]
  },
  {
   "cell_type": "code",
   "execution_count": null,
   "id": "cf2d2690",
   "metadata": {},
   "outputs": [],
   "source": [
    "# inspect compiling results from the tc and qos for the task, we can directly get the circuit objects from prettified details\n",
    "\n",
    "c_complied_before_qos = t.details(prettify=True)[\"frontend\"]\n",
    "c_complied_after_qos = t.details(prettify=True)[\"backend\"]"
   ]
  },
  {
   "cell_type": "code",
   "execution_count": null,
   "id": "b2b4b1e9",
   "metadata": {},
   "outputs": [],
   "source": [
    "c_complied_before_qos.draw()"
   ]
  },
  {
   "cell_type": "code",
   "execution_count": null,
   "id": "a1af33b6",
   "metadata": {},
   "outputs": [],
   "source": [
    "c_complied_after_qos.draw()"
   ]
  },
  {
   "cell_type": "markdown",
   "id": "1ad85e14",
   "metadata": {},
   "source": [
    "dry run mode to query compiled circuit only from qos (not really sending the circuit to chips), we can use ``qos_dry_run=True`` option\n"
   ]
  },
  {
   "cell_type": "code",
   "execution_count": null,
   "id": "7fee9a15",
   "metadata": {},
   "outputs": [],
   "source": [
    "nqubit = 3\n",
    "shots = 8192\n",
    "c = tc.Circuit(nqubit)\n",
    "c.h(0)\n",
    "c.h(1)\n",
    "c.rx(2, theta=0.7)\n",
    "c.ry(1, theta=-1.2)\n",
    "c.cnot(0, 1)\n",
    "c.cnot(2, 0)\n",
    "c.h(1)\n",
    "\n",
    "print(\"exact: \", [np.real(c.expectation_ps(z=[i])) for i in range(nqubit)])\n",
    "\n",
    "t = apis.submit_task(\n",
    "    circuit=c,\n",
    "    shots=shots,\n",
    "    device=\"9gmon\",\n",
    "    compiled=True,\n",
    "    enable_qos_qubit_mapping=True,\n",
    "    enable_qos_gate_decomposition=True,\n",
    "    qos_dry_run=True,\n",
    ")"
   ]
  },
  {
   "cell_type": "code",
   "execution_count": null,
   "id": "e262a682",
   "metadata": {
    "scrolled": false
   },
   "outputs": [],
   "source": [
    "t.details(prettify=True)[\"backend\"].draw()"
   ]
  },
  {
   "cell_type": "markdown",
   "id": "ea015c48",
   "metadata": {},
   "source": [
    "## scalable readout simulation and mitigation\n",
    "\n",
    "Via TensorCircuit, we provide the capability to do scalable (20+ qubits) readout error simulation and mitigation"
   ]
  },
  {
   "cell_type": "code",
   "execution_count": null,
   "id": "2b509155",
   "metadata": {},
   "outputs": [],
   "source": [
    "# scalable readout error simulation on tQuK with tensorcircuit backend using tensor network approach\n",
    "\n",
    "c = tc.Circuit(3)\n",
    "t = apis.submit_task(circuit=c, device=\"simulator:tcn1\", shots=8192)\n",
    "t.results(blocked=True)"
   ]
  },
  {
   "cell_type": "code",
   "execution_count": null,
   "id": "71f634ff",
   "metadata": {},
   "outputs": [],
   "source": [
    "t.results(mitigated=True)"
   ]
  },
  {
   "cell_type": "code",
   "execution_count": null,
   "id": "7533330d",
   "metadata": {
    "scrolled": false
   },
   "outputs": [],
   "source": [
    "c = tc.Circuit(25)\n",
    "t = apis.submit_task(circuit=c, device=\"simulator:tcn1\", shots=8192)\n",
    "t.results(blocked=True)"
   ]
  },
  {
   "cell_type": "markdown",
   "id": "06281585",
   "metadata": {},
   "source": [
    "Simulator device also support batch submission"
   ]
  },
  {
   "cell_type": "code",
   "execution_count": null,
   "id": "cdfb639c",
   "metadata": {},
   "outputs": [],
   "source": [
    "# batch submission to the simulator\n",
    "cs = []\n",
    "for i in range(15):\n",
    "    c = tc.Circuit(15)\n",
    "    c.x(i)\n",
    "    cs.append(c)\n",
    "ts = apis.submit_task(circuit=cs, device=\"simulator:tcn1\", shots=8192)"
   ]
  },
  {
   "cell_type": "code",
   "execution_count": null,
   "id": "f8d8217e",
   "metadata": {},
   "outputs": [],
   "source": [
    "# mitigated with m3 scalable on count dict\n",
    "c = tc.Circuit(15)\n",
    "c.x(0)\n",
    "t = apis.submit_task(circuit=c, device=\"simulator:tcn1\", shots=8192)\n",
    "\n",
    "mit = tc.results.readout_mitigation.ReadoutMit(\"simulator:tcn1\")\n",
    "mit.cals_from_system(15)\n",
    "\n",
    "raw_count = t.results(blocked=True)\n",
    "mit.apply_correction(raw_count, 15, method=\"M3_auto\")"
   ]
  },
  {
   "cell_type": "code",
   "execution_count": null,
   "id": "292f9b11",
   "metadata": {},
   "outputs": [],
   "source": [
    "# mitigated with m3 scalable directly on expectation: not a wrapper for count but a new algorithm!\n",
    "# see eq 6 in https://arxiv.org/pdf/2006.14044.pdf\n",
    "\n",
    "mit.expectation(raw_count, [0])"
   ]
  },
  {
   "cell_type": "markdown",
   "id": "bd454737",
   "metadata": {},
   "source": [
    "## list task and get previous task\n",
    "\n",
    "get history tasks and their details"
   ]
  },
  {
   "cell_type": "code",
   "execution_count": null,
   "id": "2b80411b",
   "metadata": {},
   "outputs": [],
   "source": [
    "apis.list_tasks()"
   ]
  },
  {
   "cell_type": "code",
   "execution_count": null,
   "id": "8dffbcfd",
   "metadata": {},
   "outputs": [],
   "source": [
    "apis.list_tasks(device=\"9gmon\")"
   ]
  },
  {
   "cell_type": "code",
   "execution_count": null,
   "id": "5e29190d",
   "metadata": {},
   "outputs": [],
   "source": [
    "t = apis.get_task(\"d77bec2f-ab07-4dbc-a273-caa8b23a921c\")"
   ]
  },
  {
   "cell_type": "code",
   "execution_count": null,
   "id": "d24ddc18",
   "metadata": {
    "scrolled": false
   },
   "outputs": [],
   "source": [
    "t.details()"
   ]
  },
  {
   "cell_type": "code",
   "execution_count": null,
   "id": "706c9c08",
   "metadata": {},
   "outputs": [],
   "source": [
    "t = apis.get_task(\"tencent::9gmon~~e32bb488-5ee9-4b07-8217-1e78ceb4bde3\")"
   ]
  },
  {
   "cell_type": "code",
   "execution_count": null,
   "id": "8ad61cb9",
   "metadata": {},
   "outputs": [],
   "source": [
    "t.details(prettify=True)"
   ]
  },
  {
   "cell_type": "code",
   "execution_count": null,
   "id": "a5426c97",
   "metadata": {},
   "outputs": [],
   "source": [
    "t.results()"
   ]
  },
  {
   "cell_type": "code",
   "execution_count": null,
   "id": "b9ea323f",
   "metadata": {},
   "outputs": [],
   "source": []
  }
 ],
 "metadata": {
  "kernelspec": {
   "display_name": "Python 3 (ipykernel)",
   "language": "python",
   "name": "python3"
  },
  "language_info": {
   "codemirror_mode": {
    "name": "ipython",
    "version": 3
   },
   "file_extension": ".py",
   "mimetype": "text/x-python",
   "name": "python",
   "nbconvert_exporter": "python",
   "pygments_lexer": "ipython3",
   "version": "3.8.0"
  }
 },
 "nbformat": 4,
 "nbformat_minor": 5
}
