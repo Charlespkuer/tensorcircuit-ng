{
 "cells": [
  {
   "cell_type": "markdown",
   "metadata": {},
   "source": [
    "# 结合SKLearn实现的支持向量分类\n",
    "\n",
    "[_Mark (Zixuan) Song_](https://marksong.tech) 撰写\n",
    "- - -\n",
    "\n",
    "为代码简洁，本示例结合了`sklearn`库中的`SVC`类，实现了支持向量分类。"
   ]
  },
  {
   "cell_type": "markdown",
   "metadata": {},
   "source": [
    "# 概述\n",
    "\n",
    "本示例的目的是将量子机器学习（QML）转换器嵌入到SVC管道中并且介绍`tensorcircuit`与`scikit-learn`的一种连接方式。"
   ]
  },
  {
   "cell_type": "markdown",
   "metadata": {},
   "source": [
    "## 设置\n",
    "\n",
    "安装`scikit-learn`。下载数据集[`GCN`](https://archive.ics.uci.edu/dataset/144/statlog+german+credit+data)并存储为`german.data-numeric`。\n",
    "\n",
    "```bash\n",
    "pip install scikit-learn\n",
    "```"
   ]
  },
  {
   "cell_type": "code",
   "execution_count": 1,
   "metadata": {},
   "outputs": [],
   "source": [
    "import tensorcircuit as tc\n",
    "import tensorflow as tf\n",
    "from sklearn.svm import SVC\n",
    "from sklearn import metrics\n",
    "from time import time\n",
    "\n",
    "K = tc.set_backend(\"tensorflow\")"
   ]
  },
  {
   "cell_type": "markdown",
   "metadata": {},
   "source": [
    "## 数据处理\n",
    "\n",
    "数据集包含24个变量，每个变量都是整数值。为了使模型能够使用数据，我们需要首先将数据转换为4x6或5x5的矩阵（本教程的情况），然后将数据归一化为0到1之间。"
   ]
  },
  {
   "cell_type": "code",
   "execution_count": 2,
   "metadata": {},
   "outputs": [],
   "source": [
    "def load_GCN_data():\n",
    "    f = open(\"german.data-numeric\")\n",
    "    line = f.readline()\n",
    "    X = []\n",
    "    while line:\n",
    "        ll = line\n",
    "        while '  ' in ll:\n",
    "            ll = ll.replace('  ',' ')\n",
    "        if ll[0]==' ':\n",
    "            ll = ll[1:]\n",
    "        if ll[-1]=='\\n':\n",
    "            ll = ll[:-1]\n",
    "        if ll[-1]==' ':\n",
    "            ll = ll[:-1]\n",
    "        x = ll.split(' ')\n",
    "        x_int = []\n",
    "        for i in x:\n",
    "            x_int.append(int(i))\n",
    "        X.append(x_int)\n",
    "        line = f.readline()\n",
    "    f.close()\n",
    "    X_temp = K.convert_to_tensor(X)\n",
    "    X = []\n",
    "    Y = []\n",
    "    X_temp_transpose = K.transpose(K.convert_to_tensor(X_temp))\n",
    "    X_temp_max = []\n",
    "    for i in range(len(X_temp_transpose)):\n",
    "        X_temp_max.append(max(X_temp_transpose[i]))\n",
    "    X_temp_max = K.convert_to_tensor(X_temp_max)\n",
    "    final_digit = K.cast([0],'int32')\n",
    "    for i in X_temp:\n",
    "        Y.append(i[-1]-1)\n",
    "        X.append(K.divide(K.concat([i[:24],final_digit],0), X_temp_max))\n",
    "    Y = K.cast(K.convert_to_tensor(Y),'float32')\n",
    "    X = K.cast(K.convert_to_tensor(X),'float32')\n",
    "    return (X[:800],Y[:800]),(X[800:],Y[800:])\n",
    "\n",
    "(x_train, y_train), (x_test, y_test) = load_GCN_data()"
   ]
  },
  {
   "cell_type": "markdown",
   "metadata": {},
   "source": [
    "## 量子模型\n",
    "\n",
    "这个量子模型是输入为5x5矩阵，并输出为5个量子比特的状态。模型如下所示："
   ]
  },
  {
   "cell_type": "code",
   "execution_count": 3,
   "metadata": {},
   "outputs": [],
   "source": [
    "def quantumTran(inputs):\n",
    "    c = tc.Circuit(5)\n",
    "    for i in range(5):\n",
    "        if i%2 == 0:\n",
    "            for j in range(5):\n",
    "                c.rx(j, theta=(0 if i*5+j >= 25 else inputs[i*5+j]))\n",
    "            for j in range(4):\n",
    "                c.cnot(j, j+1)\n",
    "        else:\n",
    "            for j in range(5):\n",
    "                c.rz(j, theta=(0 if i*5+j >= 25 else inputs[i*5+j]))\n",
    "    return c.state()\n",
    "\n",
    "func_qt =  tc.interfaces.tensorflow_interface(quantumTran, ydtype=tf.complex64, jit=True)"
   ]
  },
  {
   "cell_type": "markdown",
   "metadata": {},
   "source": [
    "## 将量子模型打包成SVC\n",
    "\n",
    "将量子模型打包成`SKLearn`能使用的SVC模型。"
   ]
  },
  {
   "cell_type": "code",
   "execution_count": 4,
   "metadata": {},
   "outputs": [],
   "source": [
    "def quantum_kernel(quantumTran, data_x, data_y):\n",
    "    def kernel(x,y):\n",
    "        x = K.convert_to_tensor(x)\n",
    "        y = K.convert_to_tensor(y)\n",
    "        x_qt = None\n",
    "        for i, x1 in enumerate(x):\n",
    "            if i == 0:\n",
    "                x_qt = K.convert_to_tensor([quantumTran(x1)])\n",
    "            else:\n",
    "                x_qt = K.concat([x_qt,[quantumTran(x1)]],0)\n",
    "        y_qt = None\n",
    "        for i, x1 in enumerate(y):\n",
    "            if i == 0:\n",
    "                y_qt = K.convert_to_tensor([quantumTran(x1)])\n",
    "            else:\n",
    "                y_qt = K.concat([y_qt,[quantumTran(x1)]],0)\n",
    "        data_ret = K.cast(K.power(K.abs(x_qt @ K.transpose(y_qt)), 2), \"float32\")\n",
    "        return data_ret\n",
    "    clf = SVC(kernel=kernel)\n",
    "    clf.fit(data_x, data_y)\n",
    "    return clf"
   ]
  },
  {
   "cell_type": "markdown",
   "metadata": {},
   "source": [
    "## 创建传统SVC模型"
   ]
  },
  {
   "cell_type": "code",
   "execution_count": 5,
   "metadata": {},
   "outputs": [],
   "source": [
    "def standard_kernel(data_x, data_y, method):\n",
    "    methods = ['linear', 'poly', 'rbf', 'sigmoid']\n",
    "    if method not in methods:\n",
    "        raise ValueError(\"method must be one of %r.\" % methods)\n",
    "    clf = SVC(kernel=method)\n",
    "    clf.fit(data_x, data_y)\n",
    "    return clf"
   ]
  },
  {
   "cell_type": "markdown",
   "metadata": {},
   "source": [
    "## 测试对比\n",
    "\n",
    "测试量子SVC模型并于传统SVC模型进行对比。"
   ]
  },
  {
   "cell_type": "code",
   "execution_count": 6,
   "metadata": {},
   "outputs": [
    {
     "name": "stdout",
     "output_type": "stream",
     "text": [
      "\n",
      "Accuracy:(linear as kernel) 0.79\n",
      "time: 0.009594917297363281 seconds\n",
      "\n",
      "Accuracy:(poly as kernel) 0.77\n",
      "time: 0.010785818099975586 seconds\n",
      "\n",
      "Accuracy:(rbf as kernel) 0.775\n",
      "time: 0.012056112289428711 seconds\n",
      "\n",
      "Accuracy:(sigmoid as kernel) 0.565\n",
      "time: 0.017444133758544922 seconds\n",
      "\n",
      "Accuracy:(qml as kernel) 0.635\n",
      "time: 6.606667995452881 seconds\n"
     ]
    }
   ],
   "source": [
    "methods = ['linear', 'poly', 'rbf', 'sigmoid']\n",
    "\n",
    "for method in methods:\n",
    "    \n",
    "    print()\n",
    "    t = time()\n",
    "\n",
    "    k = standard_kernel(data_x=x_train, data_y=y_train, method=method)\n",
    "    y_pred = k.predict(x_test)\n",
    "    print(\"Accuracy:(%s as kernel)\" % method,metrics.accuracy_score(y_test, y_pred))\n",
    "\n",
    "    print(\"time:\",time()-t,'seconds')\n",
    "\n",
    "print()\n",
    "t = time()\n",
    "\n",
    "k = quantum_kernel(quantumTran=func_qt, data_x=x_train, data_y=y_train)\n",
    "y_pred = k.predict(x_test)\n",
    "print(\"Accuracy:(qml as kernel)\",metrics.accuracy_score(y_test, y_pred))\n",
    "\n",
    "print(\"time:\",time()-t,'seconds')"
   ]
  },
  {
   "cell_type": "markdown",
   "metadata": {},
   "source": [
    "## `SKLearn`的局限性\n",
    "\n",
    "因为`SKLearn`的局限性，`SKLearn`的`SVC`并不完全兼容量子机器学习（QML）。\n",
    "\n",
    "这是因为QML输出的为复数（布洛赫球上的坐标），而`SKLearn`只接受浮点数。这导致QML输出的结果必须在使用SVC之前转换为浮点数，从而可能导致精度损失。\n",
    "\n",
    "## 结论\n",
    "\n",
    "由于`SKLearn`的局限性，量子SVC在准确性和速度上都不如传统SVC。但是，如果这种局限性被消除，量子SVC可能会在准确性上都优于传统SVC。"
   ]
  }
 ],
 "metadata": {
  "kernelspec": {
   "display_name": "tc2",
   "language": "python",
   "name": "python3"
  },
  "language_info": {
   "codemirror_mode": {
    "name": "ipython",
    "version": 3
   },
   "file_extension": ".py",
   "mimetype": "text/x-python",
   "name": "python",
   "nbconvert_exporter": "python",
   "pygments_lexer": "ipython3",
   "version": "3.10.11"
  },
  "orig_nbformat": 4
 },
 "nbformat": 4,
 "nbformat_minor": 2
}
