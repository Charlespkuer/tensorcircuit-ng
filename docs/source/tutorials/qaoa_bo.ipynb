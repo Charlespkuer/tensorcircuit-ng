{
 "cells": [
  {
   "cell_type": "markdown",
   "source": [
    "# Optimizing QAOA using BO"
   ],
   "metadata": {}
  },
  {
   "cell_type": "markdown",
   "source": [
    "## Setup"
   ],
   "metadata": {}
  },
  {
   "cell_type": "code",
   "execution_count": null,
   "source": [
    "import tensorcircuit as tc\n",
    "import tensorflow as tf\n",
    "import cotengra as ctg\n",
    "import optax\n",
    "import networkx as nx\n",
    "import time\n",
    "import numpy as np\n",
    "import torch\n",
    "import os\n",
    "\n",
    "K = tc.set_backend(\"tensorflow\")"
   ],
   "outputs": [],
   "metadata": {}
  },
  {
   "cell_type": "markdown",
   "source": [
    "## QAOA blackbox"
   ],
   "metadata": {}
  },
  {
   "cell_type": "code",
   "execution_count": 2,
   "source": [
    "# Generate a graph\n",
    "def dict2graph(d):\n",
    "    g = nx.to_networkx_graph(d)\n",
    "    for e in g.edges:\n",
    "        if not g[e[0]][e[1]].get(\"weight\"):\n",
    "            g[e[0]][e[1]][\"weight\"] = 1.0\n",
    "    nx.draw(g, with_labels=True)\n",
    "    return g\n",
    "\n",
    "\n",
    "# a graph instance\n",
    "example_graph_dict = {\n",
    "    0: {1: {\"weight\": 0.9}, 7: {\"weight\": 0.4}, 3: {\"weight\": 0.38}},\n",
    "    1: {0: {\"weight\": 0.44}, 2: {\"weight\": 0.67}, 3: {\"weight\": 0.62}},\n",
    "    2: {1: {\"weight\": 0.21}, 3: {\"weight\": 0.87}, 5: {\"weight\": 0.72}},\n",
    "    4: {7: {\"weight\": 0.34}, 6: {\"weight\": 0.53}, 5: {\"weight\": 0.45}},\n",
    "    7: {4: {\"weight\": 0.45}, 6: {\"weight\": 0.63}, 0: {\"weight\": 0.59}},\n",
    "    3: {1: {\"weight\": 0.12}, 2: {\"weight\": 0.21}, 0: {\"weight\": 0.68}},\n",
    "    6: {7: {\"weight\": 0.34}, 4: {\"weight\": 0.33}, 5: {\"weight\": 0.96}},\n",
    "    5: {6: {\"weight\": 0.18}, 4: {\"weight\": 0.79}, 2: {\"weight\": 0.17}},\n",
    "}\n",
    "\n",
    "example_graph = dict2graph(example_graph_dict)"
   ],
   "outputs": [
    {
     "output_type": "display_data",
     "data": {
      "text/plain": [
       "<Figure size 432x288 with 1 Axes>"
      ],
      "image/png": "[encoded data removed]"
     },
     "metadata": {}
    }
   ],
   "metadata": {}
  },
  {
   "cell_type": "code",
   "execution_count": 3,
   "source": [
    "def QAOAansatz(params, g=example_graph):\n",
    "    n = len(g.nodes)  # the number of nodes\n",
    "    c = tc.Circuit(n)\n",
    "    for i in range(n):\n",
    "        c.H(i)\n",
    "    # PQC\n",
    "    for j in range(nlayers):\n",
    "        # U_j\n",
    "        for e in g.edges:\n",
    "            c.exp1(\n",
    "                e[0],\n",
    "                e[1],\n",
    "                unitary=tc.gates._zz_matrix,\n",
    "                theta=g[e[0]][e[1]].get(\"weight\", 1.0) * params[2 * j],\n",
    "            )\n",
    "        # V_j\n",
    "        for i in range(n):\n",
    "            c.rx(i, theta=params[2 * j + 1])\n",
    "\n",
    "    # calculate the loss function\n",
    "    loss = 0.0\n",
    "    for e in g.edges:\n",
    "        loss += g[e[0]][e[1]].get(\"weight\") * c.expectation_ps(z=[e[0], e[1]])\n",
    "\n",
    "    return K.real(loss)"
   ],
   "outputs": [],
   "metadata": {}
  },
  {
   "cell_type": "markdown",
   "source": [
    "## Using BO optimizer from ODBO\n"
   ],
   "metadata": {}
  },
  {
   "cell_type": "code",
   "execution_count": 5,
   "source": [
    "import odbo\n",
    "\n",
    "# BO settings\n",
    "device = torch.device(\"cuda\" if torch.cuda.is_available() else \"cpu\")\n",
    "dtype = torch.float\n",
    "batch_size = 1\n",
    "acqfn = \"ucb\"\n",
    "\n",
    "QAOA_nograd = K.jit(QAOAansatz)\n",
    "\n",
    "\n",
    "def eval_objective(x, example_graph):\n",
    "    \"\"\"This is a helper function we use to unnormalize and evalaute a point\"\"\"\n",
    "    a = tf.convert_to_tensor(np.array(x).ravel())\n",
    "    return -QAOA_nograd(a, example_graph).numpy()\n",
    "\n",
    "\n",
    "X_new = np.random.uniform(low=0, high=1, size=[1, 2 * nlayers])\n",
    "X_bo = torch.tensor(np.vstack([initial_X, X_new]))\n",
    "Y_bo = torch.tensor(\n",
    "    [eval_objective(x, example_graph) for x in X_bo], dtype=dtype, device=device\n",
    ").unsqueeze(-1)"
   ],
   "outputs": [],
   "metadata": {
    "scrolled": false
   }
  },
  {
   "cell_type": "code",
   "execution_count": 6,
   "source": [
    "# BO Optimizer\n",
    "for i in range(100):  # run 100 iter optimizations\n",
    "    X_next, acq_value, ids = odbo.run_exp.bo_design(\n",
    "        X=X_bo,\n",
    "        Y=Y_bo,\n",
    "        batch_size=batch_size,\n",
    "        acqfn=acqfn,\n",
    "        normalize=False,\n",
    "        verbose=False,\n",
    "    )\n",
    "    X_next = torch.reshape(X_next, [batch_size, 2 * nlayers])\n",
    "    Y_next = torch.tensor(\n",
    "        [eval_objective(x, example_graph) for x in X_next], dtype=dtype, device=device\n",
    "    )\n",
    "    # Update training set\n",
    "    X_bo = torch.cat((X_bo, X_next), dim=0)\n",
    "    Y_bo = torch.cat((Y_bo, Y_next.unsqueeze(-1)), dim=0)\n",
    "    print(f\"{i+1}) New loss: {-Y_next.item(): .4e} Best loss: {-Y_bo.max():.4e}\")"
   ],
   "outputs": [
    {
     "output_type": "stream",
     "name": "stdout",
     "text": [
      "1) New loss:  1.3437e+00 Best loss: 1.2106e+00\n",
      "2) New loss:  8.7936e-01 Best loss: 8.7936e-01\n",
      "3) New loss:  7.1789e-01 Best loss: 7.1789e-01\n",
      "4) New loss:  6.1326e-01 Best loss: 6.1326e-01\n",
      "5) New loss:  5.8545e-01 Best loss: 5.8545e-01\n",
      "6) New loss:  2.7606e-01 Best loss: 2.7606e-01\n",
      "7) New loss:  1.7849e-02 Best loss: 1.7849e-02\n",
      "8) New loss: -1.1042e-01 Best loss: -1.1042e-01\n",
      "9) New loss: -1.1939e-01 Best loss: -1.1939e-01\n",
      "10) New loss: -2.5096e-01 Best loss: -2.5096e-01\n",
      "11) New loss: -5.6989e-01 Best loss: -5.6989e-01\n",
      "12) New loss: -7.5698e-01 Best loss: -7.5698e-01\n",
      "13) New loss: -8.6725e-01 Best loss: -8.6725e-01\n",
      "14) New loss: -9.1735e-01 Best loss: -9.1735e-01\n",
      "15) New loss: -9.2709e-01 Best loss: -9.2709e-01\n",
      "16) New loss: -9.3580e-01 Best loss: -9.3580e-01\n",
      "17) New loss: -9.1267e-01 Best loss: -9.3580e-01\n",
      "18) New loss: -9.4420e-01 Best loss: -9.4420e-01\n",
      "19) New loss: -9.4391e-01 Best loss: -9.4420e-01\n",
      "20) New loss: -9.5668e-01 Best loss: -9.5668e-01\n",
      "21) New loss: -9.7023e-01 Best loss: -9.7023e-01\n",
      "22) New loss: -9.7753e-01 Best loss: -9.7753e-01\n",
      "23) New loss: -9.7975e-01 Best loss: -9.7975e-01\n",
      "24) New loss: -9.8380e-01 Best loss: -9.8380e-01\n",
      "25) New loss: -9.8546e-01 Best loss: -9.8546e-01\n",
      "26) New loss: -9.8754e-01 Best loss: -9.8754e-01\n",
      "27) New loss: -9.8786e-01 Best loss: -9.8786e-01\n",
      "28) New loss: -9.8514e-01 Best loss: -9.8786e-01\n",
      "29) New loss: -9.9017e-01 Best loss: -9.9017e-01\n",
      "30) New loss: -9.9235e-01 Best loss: -9.9235e-01\n",
      "31) New loss: -9.9391e-01 Best loss: -9.9391e-01\n",
      "32) New loss: -9.9355e-01 Best loss: -9.9391e-01\n",
      "33) New loss: -9.8973e-01 Best loss: -9.9391e-01\n",
      "34) New loss: -9.9798e-01 Best loss: -9.9798e-01\n",
      "35) New loss: -1.0005e+00 Best loss: -1.0005e+00\n",
      "36) New loss: -1.0021e+00 Best loss: -1.0021e+00\n",
      "37) New loss: -1.0029e+00 Best loss: -1.0029e+00\n",
      "38) New loss: -1.0029e+00 Best loss: -1.0029e+00\n",
      "39) New loss: -1.0022e+00 Best loss: -1.0029e+00\n",
      "40) New loss: -1.0034e+00 Best loss: -1.0034e+00\n",
      "41) New loss: -1.0037e+00 Best loss: -1.0037e+00\n",
      "42) New loss: -1.0035e+00 Best loss: -1.0037e+00\n",
      "43) New loss: -1.0037e+00 Best loss: -1.0037e+00\n",
      "44) New loss: -1.0036e+00 Best loss: -1.0037e+00\n",
      "45) New loss: -1.0035e+00 Best loss: -1.0037e+00\n",
      "46) New loss: -1.0033e+00 Best loss: -1.0037e+00\n",
      "47) New loss: -1.0033e+00 Best loss: -1.0037e+00\n",
      "48) New loss: -1.0036e+00 Best loss: -1.0037e+00\n",
      "49) New loss: -1.0041e+00 Best loss: -1.0041e+00\n",
      "50) New loss: -1.0035e+00 Best loss: -1.0041e+00\n",
      "51) New loss: -1.0044e+00 Best loss: -1.0044e+00\n",
      "52) New loss: -1.0044e+00 Best loss: -1.0044e+00\n",
      "53) New loss: -1.0044e+00 Best loss: -1.0044e+00\n",
      "54) New loss: -1.0045e+00 Best loss: -1.0045e+00\n",
      "55) New loss: -1.0043e+00 Best loss: -1.0045e+00\n",
      "56) New loss: -1.0046e+00 Best loss: -1.0046e+00\n",
      "57) New loss: -1.0043e+00 Best loss: -1.0046e+00\n",
      "58) New loss: -1.0045e+00 Best loss: -1.0046e+00\n",
      "59) New loss: -1.0042e+00 Best loss: -1.0046e+00\n",
      "60) New loss: -1.0045e+00 Best loss: -1.0046e+00\n",
      "61) New loss: -1.0042e+00 Best loss: -1.0046e+00\n",
      "62) New loss: -1.0047e+00 Best loss: -1.0047e+00\n",
      "63) New loss: -1.0047e+00 Best loss: -1.0047e+00\n",
      "64) New loss: -1.0048e+00 Best loss: -1.0048e+00\n",
      "65) New loss: -1.0045e+00 Best loss: -1.0048e+00\n",
      "66) New loss: -1.0047e+00 Best loss: -1.0048e+00\n",
      "67) New loss: -1.0045e+00 Best loss: -1.0048e+00\n",
      "68) New loss: -1.0045e+00 Best loss: -1.0048e+00\n",
      "69) New loss: -1.0049e+00 Best loss: -1.0049e+00\n",
      "70) New loss: -1.0049e+00 Best loss: -1.0049e+00\n",
      "71) New loss: -1.0049e+00 Best loss: -1.0049e+00\n",
      "72) New loss: -1.0050e+00 Best loss: -1.0050e+00\n",
      "73) New loss: -1.0049e+00 Best loss: -1.0050e+00\n",
      "74) New loss: -1.0049e+00 Best loss: -1.0050e+00\n",
      "75) New loss: -1.0049e+00 Best loss: -1.0050e+00\n",
      "76) New loss: -1.0050e+00 Best loss: -1.0050e+00\n",
      "77) New loss: -1.0050e+00 Best loss: -1.0050e+00\n",
      "78) New loss: -1.0050e+00 Best loss: -1.0050e+00\n",
      "79) New loss: -1.0050e+00 Best loss: -1.0050e+00\n",
      "80) New loss: -1.0050e+00 Best loss: -1.0050e+00\n",
      "81) New loss: -1.0050e+00 Best loss: -1.0050e+00\n",
      "82) New loss: -1.0049e+00 Best loss: -1.0050e+00\n",
      "83) New loss: -1.0050e+00 Best loss: -1.0050e+00\n",
      "84) New loss: -1.0049e+00 Best loss: -1.0050e+00\n",
      "85) New loss: -1.0050e+00 Best loss: -1.0050e+00\n",
      "86) New loss: -1.0050e+00 Best loss: -1.0050e+00\n",
      "87) New loss: -1.0050e+00 Best loss: -1.0050e+00\n",
      "88) New loss: -1.0051e+00 Best loss: -1.0051e+00\n",
      "89) New loss: -1.0051e+00 Best loss: -1.0051e+00\n",
      "90) New loss: -1.0051e+00 Best loss: -1.0051e+00\n",
      "91) New loss: -1.0052e+00 Best loss: -1.0052e+00\n",
      "92) New loss: -1.0050e+00 Best loss: -1.0052e+00\n",
      "93) New loss: -1.0052e+00 Best loss: -1.0052e+00\n",
      "94) New loss: -1.0050e+00 Best loss: -1.0052e+00\n",
      "95) New loss: -1.0049e+00 Best loss: -1.0052e+00\n",
      "96) New loss: -1.0051e+00 Best loss: -1.0052e+00\n",
      "97) New loss: -1.0051e+00 Best loss: -1.0052e+00\n",
      "98) New loss: -1.0051e+00 Best loss: -1.0052e+00\n",
      "99) New loss: -1.0052e+00 Best loss: -1.0052e+00\n",
      "100) New loss: -1.0051e+00 Best loss: -1.0052e+00\n"
     ]
    }
   ],
   "metadata": {
    "scrolled": false
   }
  }
 ],
 "metadata": {
  "kernelspec": {
   "display_name": "Python 3 (ipykernel)",
   "language": "python",
   "name": "python3"
  },
  "language_info": {
   "codemirror_mode": {
    "name": "ipython",
    "version": 3
   },
   "file_extension": ".py",
   "mimetype": "text/x-python",
   "name": "python",
   "nbconvert_exporter": "python",
   "pygments_lexer": "ipython3",
   "version": "3.9.12"
  }
 },
 "nbformat": 4,
 "nbformat_minor": 5
}