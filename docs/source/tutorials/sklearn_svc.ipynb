{
 "cells": [
  {
   "cell_type": "markdown",
   "metadata": {},
   "source": [
    "# Support Vector Classification with SKLearn\n",
    "\n",
    "Authored by [_Mark (Zixuan) Song_](https://marksong.tech)\n",
    "- - -\n",
    "\n",
    "We use the `SKLearn` library to implement `SVC` in the following tutorial."
   ]
  },
  {
   "cell_type": "markdown",
   "metadata": {},
   "source": [
    "# Overview\n",
    "\n",
    "The aim of this tutorial is to implant a quantum machine learning (QML) transformer into SVC pipeline. And this is a general introduction to connect `tensorcircuit` with `scikit-learn`."
   ]
  },
  {
   "cell_type": "markdown",
   "metadata": {},
   "source": [
    "## Setup\n",
    "\n",
    "Install `scikit-learn` and download dataset that is going to be used in this model [`GCN`](https://archive.ics.uci.edu/dataset/144/statlog+german+credit+data) as `german.data-numeric`.\n",
    "\n",
    "```bash\n",
    "pip install scikit-learn\n",
    "```"
   ]
  },
  {
   "cell_type": "code",
   "execution_count": 1,
   "metadata": {},
   "outputs": [],
   "source": [
    "import tensorcircuit as tc\n",
    "import tensorflow as tf\n",
    "from sklearn.svm import SVC\n",
    "from sklearn import metrics\n",
    "from time import time\n",
    "\n",
    "K = tc.set_backend(\"tensorflow\")"
   ]
  },
  {
   "cell_type": "markdown",
   "metadata": {},
   "source": [
    "## Data Preprocessing\n",
    "\n",
    "The data has 24 variables and each is a integer value. In order for the model to use the data, we need to first convert the data into a matrix of either 4x6 or 5x5 (the case of this tutorial) and then normalize the data to between 0 and 1."
   ]
  },
  {
   "cell_type": "code",
   "execution_count": 2,
   "metadata": {},
   "outputs": [],
   "source": [
    "def load_GCN_data():\n",
    "    f = open(\"german.data-numeric\")\n",
    "    line = f.readline()\n",
    "    X = []\n",
    "    while line:\n",
    "        ll = line\n",
    "        while '  ' in ll:\n",
    "            ll = ll.replace('  ',' ')\n",
    "        if ll[0]==' ':\n",
    "            ll = ll[1:]\n",
    "        if ll[-1]=='\\n':\n",
    "            ll = ll[:-1]\n",
    "        if ll[-1]==' ':\n",
    "            ll = ll[:-1]\n",
    "        x = ll.split(' ')\n",
    "        x_int = []\n",
    "        for i in x:\n",
    "            x_int.append(int(i))\n",
    "        X.append(x_int)\n",
    "        line = f.readline()\n",
    "    f.close()\n",
    "    X_temp = K.convert_to_tensor(X)\n",
    "    X = []\n",
    "    Y = []\n",
    "    X_temp_transpose = K.transpose(K.convert_to_tensor(X_temp))\n",
    "    X_temp_max = []\n",
    "    for i in range(len(X_temp_transpose)):\n",
    "        X_temp_max.append(max(X_temp_transpose[i]))\n",
    "    X_temp_max = K.convert_to_tensor(X_temp_max)\n",
    "    final_digit = K.cast([0],'int32')\n",
    "    for i in X_temp:\n",
    "        Y.append(i[-1]-1)\n",
    "        X.append(K.divide(K.concat([i[:24],final_digit],0), X_temp_max))\n",
    "    Y = K.cast(K.convert_to_tensor(Y),'float32')\n",
    "    X = K.cast(K.convert_to_tensor(X),'float32')\n",
    "    return (X[:800],Y[:800]),(X[800:],Y[800:])\n",
    "\n",
    "(x_train, y_train), (x_test, y_test) = load_GCN_data()"
   ]
  },
  {
   "cell_type": "markdown",
   "metadata": {},
   "source": [
    "## Quantum Model\n",
    "\n",
    "This quantum model takes in 5x5 matrices as input and output the state of 5 qbits. The model is shown below:"
   ]
  },
  {
   "cell_type": "code",
   "execution_count": 3,
   "metadata": {},
   "outputs": [],
   "source": [
    "def quantumTran(inputs):\n",
    "    c = tc.Circuit(5)\n",
    "    for i in range(5):\n",
    "        if i%2 == 0:\n",
    "            for j in range(5):\n",
    "                c.rx(j, theta=(0 if i*5+j >= 25 else inputs[i*5+j]))\n",
    "            for j in range(4):\n",
    "                c.cnot(j, j+1)\n",
    "        else:\n",
    "            for j in range(5):\n",
    "                c.rz(j, theta=(0 if i*5+j >= 25 else inputs[i*5+j]))\n",
    "    return c.state()\n",
    "\n",
    "func_qt =  tc.interfaces.tensorflow_interface(quantumTran, ydtype=tf.complex64, jit=True)"
   ]
  },
  {
   "cell_type": "markdown",
   "metadata": {},
   "source": [
    "## Wrapping Quantum Model into a SVC\n",
    "\n",
    "Convert quantum model into svc that can be trained."
   ]
  },
  {
   "cell_type": "code",
   "execution_count": 4,
   "metadata": {},
   "outputs": [],
   "source": [
    "def quantum_kernel(quantumTran, data_x, data_y):\n",
    "    def kernel(x,y):\n",
    "        x = K.convert_to_tensor(x)\n",
    "        y = K.convert_to_tensor(y)\n",
    "        x_qt = None\n",
    "        for i, x1 in enumerate(x):\n",
    "            if i == 0:\n",
    "                x_qt = K.convert_to_tensor([quantumTran(x1)])\n",
    "            else:\n",
    "                x_qt = K.concat([x_qt,[quantumTran(x1)]],0)\n",
    "        y_qt = None\n",
    "        for i, x1 in enumerate(y):\n",
    "            if i == 0:\n",
    "                y_qt = K.convert_to_tensor([quantumTran(x1)])\n",
    "            else:\n",
    "                y_qt = K.concat([y_qt,[quantumTran(x1)]],0)\n",
    "        data_ret = K.cast(K.power(K.abs(x_qt @ K.transpose(y_qt)), 2), \"float32\")\n",
    "        return data_ret\n",
    "    clf = SVC(kernel=kernel)\n",
    "    clf.fit(data_x, data_y)\n",
    "    return clf"
   ]
  },
  {
   "cell_type": "markdown",
   "metadata": {},
   "source": [
    "## Create Traditional SVC"
   ]
  },
  {
   "cell_type": "code",
   "execution_count": 5,
   "metadata": {},
   "outputs": [],
   "source": [
    "def standard_kernel(data_x, data_y, method):\n",
    "    methods = ['linear', 'poly', 'rbf', 'sigmoid']\n",
    "    if method not in methods:\n",
    "        raise ValueError(\"method must be one of %r.\" % methods)\n",
    "    clf = SVC(kernel=method)\n",
    "    clf.fit(data_x, data_y)\n",
    "    return clf"
   ]
  },
  {
   "cell_type": "markdown",
   "metadata": {},
   "source": [
    "## Test\n",
    "\n",
    "Test the accuracy of the quantum model SVC with the test data and compare it with traditional SVC."
   ]
  },
  {
   "cell_type": "code",
   "execution_count": 6,
   "metadata": {},
   "outputs": [
    {
     "name": "stdout",
     "output_type": "stream",
     "text": [
      "\n",
      "Accuracy:(linear as kernel) 0.79\n",
      "time: 0.009650945663452148 seconds\n",
      "\n",
      "Accuracy:(poly as kernel) 0.77\n",
      "time: 0.010898828506469727 seconds\n",
      "\n",
      "Accuracy:(rbf as kernel) 0.775\n",
      "time: 0.012045145034790039 seconds\n",
      "\n",
      "Accuracy:(sigmoid as kernel) 0.565\n",
      "time: 0.01863694190979004 seconds\n",
      "\n",
      "Accuracy:(qml as kernel) 0.635\n",
      "time: 6.367200136184692 seconds\n"
     ]
    }
   ],
   "source": [
    "methods = ['linear', 'poly', 'rbf', 'sigmoid']\n",
    "\n",
    "for method in methods:\n",
    "    \n",
    "    print()\n",
    "    t = time()\n",
    "\n",
    "    k = standard_kernel(data_x=x_train, data_y=y_train, method=method)\n",
    "    y_pred = k.predict(x_test)\n",
    "    print(\"Accuracy:(%s as kernel)\" % method,metrics.accuracy_score(y_test, y_pred))\n",
    "\n",
    "    print(\"time:\",time()-t,'seconds')\n",
    "\n",
    "print()\n",
    "t = time()\n",
    "\n",
    "k = quantum_kernel(quantumTran=func_qt, data_x=x_train, data_y=y_train)\n",
    "y_pred = k.predict(x_test)\n",
    "print(\"Accuracy:(qml as kernel)\",metrics.accuracy_score(y_test, y_pred))\n",
    "\n",
    "print(\"time:\",time()-t,'seconds')"
   ]
  },
  {
   "cell_type": "markdown",
   "metadata": {},
   "source": [
    "## Issue with `SKLearn`\n",
    "\n",
    "Due to the limitation of `SKLearn`, `SKLearn`'s `SVC` is not fully compatible with quantum machine model (QML). \n",
    "\n",
    "This is because QML outputs a result as complex number (coordinate on the bloch sphere) whereas SKLearn only accept float. This is causing the result output by QML must be converted into float before it can be used in SVC, leading to a potential loss of accuracy.\n",
    "\n",
    "## Conclusion\n",
    "\n",
    "Due to the present limitation of SKLearn, quantum SVC is worse than traditional SVC in both accuracy and speed. However, if the limitation is removed, quantum SVC might be able to outperform traditional SVC in both accuracy."
   ]
  }
 ],
 "metadata": {
  "kernelspec": {
   "display_name": "tc2",
   "language": "python",
   "name": "python3"
  },
  "language_info": {
   "codemirror_mode": {
    "name": "ipython",
    "version": 3
   },
   "file_extension": ".py",
   "mimetype": "text/x-python",
   "name": "python",
   "nbconvert_exporter": "python",
   "pygments_lexer": "ipython3",
   "version": "3.10.11"
  },
  "orig_nbformat": 4
 },
 "nbformat": 4,
 "nbformat_minor": 2
}
