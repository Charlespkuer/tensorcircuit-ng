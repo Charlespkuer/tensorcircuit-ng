{
 "cells": [
  {
   "cell_type": "markdown",
   "source": [
    "# Classical Shadows in Pauli Basis"
   ],
   "metadata": {
    "collapsed": false
   }
  },
  {
   "cell_type": "markdown",
   "source": [
    "## Overview"
   ],
   "metadata": {
    "collapsed": false
   }
  },
  {
   "cell_type": "markdown",
   "source": [
    "[Classical shadows](https://www.nature.com/articles/s41567-020-0932-7) formalism is an efficient method to estimate multiple observables. In this tutorial, we will show how to use the `shadows` module in `TensorCircuit` to implement classic shadows in Pauli basis."
   ],
   "metadata": {
    "collapsed": false
   }
  },
  {
   "cell_type": "markdown",
   "source": [
    "Let's first briefly review the classical shadows in Pauli basis. For an $n$-qubit quantum state $\\rho$, we randomly perform Pauli projection measurement on each qubit and obtain a snapshot like $\\{1,-1,-1,1,\\cdots,1,-1\\}$. This process is equivalent to apply a random unitary $U$ to $\\rho$ and measure in computational basis to obtain $|b\\rangle=|s_1\\cdots s_n\\rangle,\\ s_j\\in\\{0,1\\}$:\n",
    "$$\n",
    "\\begin{equation}\n",
    "    \\rho\\rightarrow U\\rho U^{\\dagger}\\xrightarrow{measure}|b\\rangle\\langle b|,\n",
    "\\end{equation}\n",
    "$$\n",
    "where $U=\\bigotimes_{j=1}^{n}u_j$, $u_i\\in\\{H, HS^{\\dagger}, \\mathbb{I}\\}$ correspond to the projection measurements of Pauli $X$, $Y$, $Z$ respectively. Then we reverse the operation to get the equivalent measurement result on $\\rho$:\n",
    "$$\n",
    "\\begin{equation}\n",
    "    \\rho\\xrightarrow{measure}U^{\\dagger}|b\\rangle\\langle b| U.\n",
    "\\end{equation}\n",
    "$$\n",
    "Moreover, we perform $N$ random measurements and view their average as a quantum channel:\n",
    "$$\n",
    "\\begin{equation}\n",
    "    \\mathbb{E}\\left[U^{\\dagger}|b\\rangle\\langle b|U\\right]=\\mathcal{M}(\\rho),\n",
    "\\end{equation}\n",
    "$$\n",
    "we can invert the channel to get the approximation of $\\rho$:\n",
    "$$\n",
    "\\begin{equation}\n",
    "    \\rho=\\mathbb{E}\\left[\\mathcal{M}^{-1}(U^{\\dagger}|b\\rangle\\langle b|U)\\right].\n",
    "\\end{equation}\n",
    "$$\n",
    "We call each $\\rho_i=\\mathcal{M}^{-1}(U_i^{\\dagger}|b_i\\rangle\\langle b_i|U_i)$ a shadow snapshot state and their ensemble $S(\\rho;N)=\\{\\rho_i|i=1,\\cdots,N\\}$ classical shadows."
   ],
   "metadata": {
    "collapsed": false
   }
  },
  {
   "cell_type": "markdown",
   "source": [
    "In Pauli basis, we have a simple expression of $\\mathcal{M}^{-1}$:\n",
    "$$\n",
    "\\begin{eqnarray}\n",
    "    \\rho_i&=&\\mathcal{M}^{-1}(U_i^{\\dagger}|b_i\\rangle\\langle b_i|U_i)=\\bigotimes_{j=1}^{n}3u_{ij}^{\\dagger}|s_{ij}\\rangle\\langle s_{ij}|u_{ij}-\\mathbb{I},\\\\\n",
    "    \\rho&=&\\frac{1}{N}\\sum_{i=1}^{N}\\rho_i\\ .\n",
    "\\end{eqnarray}\n",
    "$$\n",
    "For an observable Pauli string $O=\\bigotimes_{j=1}^{n}P_j,\\ P_j\\in\\{\\mathbb{I}, X, Y, Z\\}$, we can directly use $\\rho$ to calculate $\\langle O\\rangle=\\text{Tr}(O\\rho)$. In practice, we will divide the classical shadows into $K$ parts to calculate the expectation values independently and take the median to avoid the influence of outliers:\n",
    "$$\n",
    "\\begin{equation}\n",
    "    \\langle O\\rangle=\\text{median}\\{\\langle O_{(1)}\\rangle\\cdots\\langle O_{(K)}\\rangle\\},\n",
    "\\end{equation}\n",
    "$$\n",
    "where\n",
    "$$\n",
    "\\begin{equation}\n",
    "    \\begin{split}\n",
    "        \\langle O_{(k)}\\rangle&=\\frac{1}{\\lceil N/K\\rceil}\\sum_{i=(k-1)\\lceil N/K\\rceil+1}^{k\\lceil N/K\\rceil}\\text{Tr}\\left[\\bigotimes_{j=1}^{n}P_j(3u_{ij}^{\\dagger}|s_{ij}\\rangle\\langle s_{ij}|u_{ij}-\\mathbb{I})\\right]\\\\\n",
    "        &=\\frac{1}{\\lceil N/K\\rceil}\\sum_{i=(k-1)\\lceil N/K\\rceil+1}^{k\\lceil N/K\\rceil}\\prod_{j=1}^n\\text{Tr}\\left[3P_j u_{ij}^{\\dagger}|s_{ij}\\rangle\\langle s_{ij}|u_{ij}\\right].\n",
    "    \\end{split}\n",
    "\\end{equation}\n",
    "$$"
   ],
   "metadata": {
    "collapsed": false
   }
  },
  {
   "cell_type": "code",
   "execution_count": 24,
   "metadata": {
    "collapsed": true,
    "ExecuteTime": {
     "end_time": "2023-08-09T04:31:38.322562200Z",
     "start_time": "2023-08-09T04:31:38.228434100Z"
    }
   },
   "outputs": [
    {
     "data": {
      "text/plain": "('complex128', 'float64')"
     },
     "execution_count": 24,
     "metadata": {},
     "output_type": "execute_result"
    }
   ],
   "source": [
    "import tensorcircuit as tc\n",
    "from tensorcircuit import shadows\n",
    "import numpy as np\n",
    "from functools import partial\n",
    "import time\n",
    "import matplotlib.pyplot as plt\n",
    "\n",
    "tc.set_backend(\"jax\")\n",
    "tc.set_dtype(\"complex128\")"
   ]
  },
  {
   "cell_type": "markdown",
   "source": [
    "## Construct the Classical Shadow Snapshots"
   ],
   "metadata": {
    "collapsed": false
   }
  },
  {
   "cell_type": "markdown",
   "source": [
    "We first set the number of qubits $n$ and the number of repeated measurements $r$ on each Pauli string. Then from the target observable Pauli strings $\\{O_i|i=1,\\cdots,M\\}$ (0, 1, 2, and 3 correspond to $\\mathbb{I}$, $X$, $Y$, and $Z$, respectively), the error $\\epsilon$ and the rate of failure $\\delta$, we can use `shadow_bound` function to get the total number of snapshots $N$ and the number of equal parts $K$ to split the shadow snapshot states to compute the median of means:\n",
    "$$\n",
    "\\begin{eqnarray}\n",
    "    K&=&2\\log(2M/\\delta),\\\\\n",
    "    N&=&K\\frac{34}{\\epsilon^2}\\max_{1\\le i\\le M}\\left\\|O_i-\\frac{\\text{Tr}(O_i)}{2^n}\\mathbb{I}\\right\\|^2_{\\text{shadow}}=K\\frac{34}{\\epsilon^2}3^{\\max_{1\\le i\\le M}k_i},\n",
    "\\end{eqnarray}\n",
    "$$\n",
    "where $k_i$ is the number of nontrivial Pauli matrices in $O_i$. Please refer to the Theorem S1 and Lemma S3 in [Huang, Kueng and Preskill (2020)](https://www.nature.com/articles/s41567-020-0932-7) for the details of proof. It should be noted that `shadow_bound` has a certain degree of overestimation of $N$, and so many measurements are not really needed in practice. And `shadow_bound` is not jitable and no need to jit."
   ],
   "metadata": {
    "collapsed": false
   }
  },
  {
   "cell_type": "code",
   "execution_count": 25,
   "outputs": [
    {
     "name": "stdout",
     "output_type": "stream",
     "text": [
      "N: 489600\tK: 16\tnumber of Pauli strings: 97920\n"
     ]
    }
   ],
   "source": [
    "n, r = 8, 5\n",
    "ps = [\n",
    "    [1, 0, 0, 0, 0, 0, 0, 2],\n",
    "    [0, 3, 0, 0, 0, 0, 1, 0],\n",
    "    [0, 0, 2, 0, 0, 3, 0, 0],\n",
    "    [0, 0, 0, 1, 2, 0, 0, 0],\n",
    "    [0, 0, 0, 3, 1, 0, 0, 0],\n",
    "    [0, 0, 0, 0, 0, 3, 0, 0],\n",
    "    [0, 0, 0, 0, 0, 0, 2, 0],\n",
    "    [3, 0, 0, 0, 0, 0, 0, 1],\n",
    "    [0, 2, 0, 0, 0, 0, 3, 0],\n",
    "    [0, 0, 1, 0, 0, 2, 0, 0],\n",
    "]\n",
    "\n",
    "epsilon, delta = 0.1, 0.01\n",
    "N, K = shadows.shadow_bound(ps, epsilon, delta)\n",
    "nps = N // r  # number of random selected Pauli strings\n",
    "print(f\"N: {N}\\tK: {K}\\tnumber of Pauli strings: {nps}\")"
   ],
   "metadata": {
    "collapsed": false,
    "ExecuteTime": {
     "end_time": "2023-08-09T04:31:38.322562200Z",
     "start_time": "2023-08-09T04:31:38.240003600Z"
    }
   }
  },
  {
   "cell_type": "markdown",
   "source": [
    "Then we use random quantum circuit to generate an entangled state."
   ],
   "metadata": {
    "collapsed": false
   }
  },
  {
   "cell_type": "code",
   "execution_count": 26,
   "outputs": [],
   "source": [
    "nlayers = 10\n",
    "thetas = 2 * np.random.rand(nlayers, n) - 1\n",
    "\n",
    "c = tc.Circuit(n)\n",
    "for i in range(n):\n",
    "    c.H(i)\n",
    "for i in range(nlayers):\n",
    "    for j in range(n):\n",
    "        c.cnot(j, (j + 1) % n)\n",
    "    for j in range(n):\n",
    "        c.rz(j, theta=thetas[i, j] * np.pi)\n",
    "\n",
    "psi = c.state()"
   ],
   "metadata": {
    "collapsed": false,
    "ExecuteTime": {
     "end_time": "2023-08-09T04:31:38.414455200Z",
     "start_time": "2023-08-09T04:31:38.248402200Z"
    }
   }
  },
  {
   "cell_type": "markdown",
   "source": [
    "We randomly generate Pauli strings. Since the function after just-in-time (jit) compilation does not support random sampling, we need to generate all random states in advance, that is, variable `status`."
   ],
   "metadata": {
    "collapsed": false
   }
  },
  {
   "cell_type": "code",
   "execution_count": 27,
   "outputs": [],
   "source": [
    "pauli_strings = tc.backend.convert_to_tensor(np.random.randint(1, 4, size=(nps, n)))\n",
    "status = tc.backend.convert_to_tensor(np.random.rand(nps, r))"
   ],
   "metadata": {
    "collapsed": false,
    "ExecuteTime": {
     "end_time": "2023-08-09T04:31:38.461760500Z",
     "start_time": "2023-08-09T04:31:38.450425100Z"
    }
   }
  },
  {
   "cell_type": "markdown",
   "source": [
    "If `measurement_only`=True, the outputs of `shadow_snapshots` are snapshot bit strings $b=s_1\\cdots s_n,\\ s_j\\in\\{0,1\\}$, otherwise the outputs are snapshot states $\\{u_{j}^{\\dagger}|s_j\\rangle\\langle s_j| u_j\\ |j=1,\\cdots,n\\}$. If you only need to generate one batch of snapshots or generate multiple batches of snapshots with different `nps` or `r`, jit cannot provide speedup. JIT will only accelerate when the same shape of snapshots are generated multiple times."
   ],
   "metadata": {
    "collapsed": false
   }
  },
  {
   "cell_type": "code",
   "execution_count": 28,
   "outputs": [
    {
     "name": "stdout",
     "output_type": "stream",
     "text": [
      "shape of snapshot states: (97920, 5, 8, 2, 2)\n"
     ]
    }
   ],
   "source": [
    "@partial(tc.backend.jit, static_argnums=(3,))\n",
    "def shadow_ss(psi, pauli_strings, status, measurement_only=False):\n",
    "    return shadows.shadow_snapshots(\n",
    "        psi, pauli_strings, status, measurement_only=measurement_only\n",
    "    )\n",
    "\n",
    "\n",
    "ss_states = shadow_ss(psi, pauli_strings, status)  # jit is not necessary here\n",
    "print(\"shape of snapshot states:\", ss_states.shape)"
   ],
   "metadata": {
    "collapsed": false,
    "ExecuteTime": {
     "end_time": "2023-08-09T04:31:41.371950200Z",
     "start_time": "2023-08-09T04:31:38.450979700Z"
    }
   }
  },
  {
   "cell_type": "markdown",
   "source": [
    "## Estimate the Expectation Values of Observables"
   ],
   "metadata": {
    "collapsed": false
   }
  },
  {
   "cell_type": "markdown",
   "source": [
    "Since the operation of taking the median is not jitable, the outputs of `expectation_ps_shadows` have $K$ values, and we need to take the median of them."
   ],
   "metadata": {
    "collapsed": false
   }
  },
  {
   "cell_type": "code",
   "execution_count": 29,
   "outputs": [],
   "source": [
    "def shadow_expec(snapshots_states, ob):\n",
    "    return shadows.expectation_ps_shadow(snapshots_states, ps=ob, k=K)\n",
    "\n",
    "\n",
    "sejit = tc.backend.jit(shadow_expec)"
   ],
   "metadata": {
    "collapsed": false,
    "ExecuteTime": {
     "end_time": "2023-08-09T04:31:41.716500100Z",
     "start_time": "2023-08-09T04:31:41.383611200Z"
    }
   }
  },
  {
   "cell_type": "markdown",
   "source": [
    "It can be seen from the running time that every time the number of Pauli strings changes, `shadow_expec` will be recompiled, but for the same number of Pauli strings but different observables, `shadow_expec` will only be compiled once. In the end, the absolute errors given by classical shadows are much smaller than the $\\epsilon=0.1$ we set, so `shadow_bound` gives a very loose upper bound."
   ],
   "metadata": {
    "collapsed": false
   }
  },
  {
   "cell_type": "code",
   "execution_count": 30,
   "outputs": [
    {
     "name": "stdout",
     "output_type": "stream",
     "text": [
      "observalbe: No.0\tnumber of Pauli strings: 1000\ttime: 0.9551787376403809\n",
      "observalbe: No.1\tnumber of Pauli strings: 1000\ttime: 0.0018684864044189453\n",
      "observalbe: No.2\tnumber of Pauli strings: 1000\ttime: 0.0013768672943115234\n",
      "observalbe: No.3\tnumber of Pauli strings: 1000\ttime: 0.001379251480102539\n",
      "observalbe: No.4\tnumber of Pauli strings: 1000\ttime: 0.0013794898986816406\n",
      "observalbe: No.5\tnumber of Pauli strings: 1000\ttime: 0.0013344287872314453\n",
      "observalbe: No.6\tnumber of Pauli strings: 1000\ttime: 0.0013382434844970703\n",
      "observalbe: No.7\tnumber of Pauli strings: 1000\ttime: 0.0013227462768554688\n",
      "observalbe: No.8\tnumber of Pauli strings: 1000\ttime: 0.0013265609741210938\n",
      "observalbe: No.9\tnumber of Pauli strings: 1000\ttime: 0.0013682842254638672\n",
      "observalbe: No.0\tnumber of Pauli strings: 10000\ttime: 1.0090177059173584\n",
      "observalbe: No.1\tnumber of Pauli strings: 10000\ttime: 0.013788700103759766\n",
      "observalbe: No.2\tnumber of Pauli strings: 10000\ttime: 0.013601541519165039\n",
      "observalbe: No.3\tnumber of Pauli strings: 10000\ttime: 0.013403654098510742\n",
      "observalbe: No.4\tnumber of Pauli strings: 10000\ttime: 0.013345003128051758\n",
      "observalbe: No.5\tnumber of Pauli strings: 10000\ttime: 0.01335453987121582\n",
      "observalbe: No.6\tnumber of Pauli strings: 10000\ttime: 0.013194084167480469\n",
      "observalbe: No.7\tnumber of Pauli strings: 10000\ttime: 0.01315927505493164\n",
      "observalbe: No.8\tnumber of Pauli strings: 10000\ttime: 0.01338505744934082\n",
      "observalbe: No.9\tnumber of Pauli strings: 10000\ttime: 0.01331019401550293\n",
      "observalbe: No.0\tnumber of Pauli strings: 20000\ttime: 1.0305681228637695\n",
      "observalbe: No.1\tnumber of Pauli strings: 20000\ttime: 0.02628493309020996\n",
      "observalbe: No.2\tnumber of Pauli strings: 20000\ttime: 0.026256799697875977\n",
      "observalbe: No.3\tnumber of Pauli strings: 20000\ttime: 0.02563929557800293\n",
      "observalbe: No.4\tnumber of Pauli strings: 20000\ttime: 0.0260465145111084\n",
      "observalbe: No.5\tnumber of Pauli strings: 20000\ttime: 0.02539658546447754\n",
      "observalbe: No.6\tnumber of Pauli strings: 20000\ttime: 0.02595233917236328\n",
      "observalbe: No.7\tnumber of Pauli strings: 20000\ttime: 0.025950908660888672\n",
      "observalbe: No.8\tnumber of Pauli strings: 20000\ttime: 0.0260164737701416\n",
      "observalbe: No.9\tnumber of Pauli strings: 20000\ttime: 0.02620983123779297\n",
      "observalbe: No.0\tnumber of Pauli strings: 30000\ttime: 1.0244255065917969\n",
      "observalbe: No.1\tnumber of Pauli strings: 30000\ttime: 0.0405888557434082\n",
      "observalbe: No.2\tnumber of Pauli strings: 30000\ttime: 0.04141855239868164\n",
      "observalbe: No.3\tnumber of Pauli strings: 30000\ttime: 0.03976869583129883\n",
      "observalbe: No.4\tnumber of Pauli strings: 30000\ttime: 0.0402679443359375\n",
      "observalbe: No.5\tnumber of Pauli strings: 30000\ttime: 0.039713144302368164\n",
      "observalbe: No.6\tnumber of Pauli strings: 30000\ttime: 0.040461063385009766\n",
      "observalbe: No.7\tnumber of Pauli strings: 30000\ttime: 0.04004383087158203\n",
      "observalbe: No.8\tnumber of Pauli strings: 30000\ttime: 0.039717912673950195\n",
      "observalbe: No.9\tnumber of Pauli strings: 30000\ttime: 0.040403127670288086\n",
      "observalbe: No.0\tnumber of Pauli strings: 40000\ttime: 1.0132625102996826\n",
      "observalbe: No.1\tnumber of Pauli strings: 40000\ttime: 0.054978370666503906\n",
      "observalbe: No.2\tnumber of Pauli strings: 40000\ttime: 0.054826974868774414\n",
      "observalbe: No.3\tnumber of Pauli strings: 40000\ttime: 0.0543065071105957\n",
      "observalbe: No.4\tnumber of Pauli strings: 40000\ttime: 0.054796457290649414\n",
      "observalbe: No.5\tnumber of Pauli strings: 40000\ttime: 0.05472278594970703\n",
      "observalbe: No.6\tnumber of Pauli strings: 40000\ttime: 0.05406332015991211\n",
      "observalbe: No.7\tnumber of Pauli strings: 40000\ttime: 0.05611300468444824\n",
      "observalbe: No.8\tnumber of Pauli strings: 40000\ttime: 0.053575754165649414\n",
      "observalbe: No.9\tnumber of Pauli strings: 40000\ttime: 0.053929805755615234\n",
      "observalbe: No.0\tnumber of Pauli strings: 50000\ttime: 1.017702579498291\n",
      "observalbe: No.1\tnumber of Pauli strings: 50000\ttime: 0.06368756294250488\n",
      "observalbe: No.2\tnumber of Pauli strings: 50000\ttime: 0.06306672096252441\n",
      "observalbe: No.3\tnumber of Pauli strings: 50000\ttime: 0.06530618667602539\n",
      "observalbe: No.4\tnumber of Pauli strings: 50000\ttime: 0.06239771842956543\n",
      "observalbe: No.5\tnumber of Pauli strings: 50000\ttime: 0.061684608459472656\n",
      "observalbe: No.6\tnumber of Pauli strings: 50000\ttime: 0.06061291694641113\n",
      "observalbe: No.7\tnumber of Pauli strings: 50000\ttime: 0.06512069702148438\n",
      "observalbe: No.8\tnumber of Pauli strings: 50000\ttime: 0.0649871826171875\n",
      "observalbe: No.9\tnumber of Pauli strings: 50000\ttime: 0.061399221420288086\n",
      "observalbe: No.0\tnumber of Pauli strings: 60000\ttime: 1.0353941917419434\n",
      "observalbe: No.1\tnumber of Pauli strings: 60000\ttime: 0.06991219520568848\n",
      "observalbe: No.2\tnumber of Pauli strings: 60000\ttime: 0.06446075439453125\n",
      "observalbe: No.3\tnumber of Pauli strings: 60000\ttime: 0.06750273704528809\n",
      "observalbe: No.4\tnumber of Pauli strings: 60000\ttime: 0.06969285011291504\n",
      "observalbe: No.5\tnumber of Pauli strings: 60000\ttime: 0.06952095031738281\n",
      "observalbe: No.6\tnumber of Pauli strings: 60000\ttime: 0.06798005104064941\n",
      "observalbe: No.7\tnumber of Pauli strings: 60000\ttime: 0.07035303115844727\n",
      "observalbe: No.8\tnumber of Pauli strings: 60000\ttime: 0.07007980346679688\n",
      "observalbe: No.9\tnumber of Pauli strings: 60000\ttime: 0.06980347633361816\n",
      "observalbe: No.0\tnumber of Pauli strings: 70000\ttime: 1.0432231426239014\n",
      "observalbe: No.1\tnumber of Pauli strings: 70000\ttime: 0.07599306106567383\n",
      "observalbe: No.2\tnumber of Pauli strings: 70000\ttime: 0.07788610458374023\n",
      "observalbe: No.3\tnumber of Pauli strings: 70000\ttime: 0.07639884948730469\n",
      "observalbe: No.4\tnumber of Pauli strings: 70000\ttime: 0.07813096046447754\n",
      "observalbe: No.5\tnumber of Pauli strings: 70000\ttime: 0.07661318778991699\n",
      "observalbe: No.6\tnumber of Pauli strings: 70000\ttime: 0.07822918891906738\n",
      "observalbe: No.7\tnumber of Pauli strings: 70000\ttime: 0.07674694061279297\n",
      "observalbe: No.8\tnumber of Pauli strings: 70000\ttime: 0.0757136344909668\n",
      "observalbe: No.9\tnumber of Pauli strings: 70000\ttime: 0.07785511016845703\n",
      "observalbe: No.0\tnumber of Pauli strings: 80000\ttime: 1.0459909439086914\n",
      "observalbe: No.1\tnumber of Pauli strings: 80000\ttime: 0.08465719223022461\n",
      "observalbe: No.2\tnumber of Pauli strings: 80000\ttime: 0.08417797088623047\n",
      "observalbe: No.3\tnumber of Pauli strings: 80000\ttime: 0.0836493968963623\n",
      "observalbe: No.4\tnumber of Pauli strings: 80000\ttime: 0.08531856536865234\n",
      "observalbe: No.5\tnumber of Pauli strings: 80000\ttime: 0.08510899543762207\n",
      "observalbe: No.6\tnumber of Pauli strings: 80000\ttime: 0.08687043190002441\n",
      "observalbe: No.7\tnumber of Pauli strings: 80000\ttime: 0.08501100540161133\n",
      "observalbe: No.8\tnumber of Pauli strings: 80000\ttime: 0.08654212951660156\n",
      "observalbe: No.9\tnumber of Pauli strings: 80000\ttime: 0.08644294738769531\n",
      "observalbe: No.0\tnumber of Pauli strings: 90000\ttime: 1.052217960357666\n",
      "observalbe: No.1\tnumber of Pauli strings: 90000\ttime: 0.09366059303283691\n",
      "observalbe: No.2\tnumber of Pauli strings: 90000\ttime: 0.09249377250671387\n",
      "observalbe: No.3\tnumber of Pauli strings: 90000\ttime: 0.09362578392028809\n",
      "observalbe: No.4\tnumber of Pauli strings: 90000\ttime: 0.09312224388122559\n",
      "observalbe: No.5\tnumber of Pauli strings: 90000\ttime: 0.09329438209533691\n",
      "observalbe: No.6\tnumber of Pauli strings: 90000\ttime: 0.09333157539367676\n",
      "observalbe: No.7\tnumber of Pauli strings: 90000\ttime: 0.09129500389099121\n",
      "observalbe: No.8\tnumber of Pauli strings: 90000\ttime: 0.09405040740966797\n",
      "observalbe: No.9\tnumber of Pauli strings: 90000\ttime: 0.09431266784667969\n",
      "observalbe: No.0\tnumber of Pauli strings: 97920\ttime: 1.0521447658538818\n",
      "observalbe: No.1\tnumber of Pauli strings: 97920\ttime: 0.10155749320983887\n",
      "observalbe: No.2\tnumber of Pauli strings: 97920\ttime: 0.10006427764892578\n",
      "observalbe: No.3\tnumber of Pauli strings: 97920\ttime: 0.10237908363342285\n",
      "observalbe: No.4\tnumber of Pauli strings: 97920\ttime: 0.10087108612060547\n",
      "observalbe: No.5\tnumber of Pauli strings: 97920\ttime: 0.10074806213378906\n",
      "observalbe: No.6\tnumber of Pauli strings: 97920\ttime: 0.10087847709655762\n",
      "observalbe: No.7\tnumber of Pauli strings: 97920\ttime: 0.10032892227172852\n",
      "observalbe: No.8\tnumber of Pauli strings: 97920\ttime: 0.1014714241027832\n",
      "observalbe: No.9\tnumber of Pauli strings: 97920\ttime: 0.10352730751037598\n"
     ]
    },
    {
     "data": {
      "text/plain": "<Figure size 640x480 with 1 Axes>",
      "image/png": "[encoded data removed]"
     },
     "metadata": {},
     "output_type": "display_data"
    }
   ],
   "source": [
    "bz = 1000\n",
    "\n",
    "exact, res = [], []\n",
    "exact_expec = c.expectation_ps(ps=ps[0])\n",
    "for ob in ps:\n",
    "    exact.append(tc.backend.real(c.expectation_ps(ps=ob)))\n",
    "exact = np.asarray(exact)[:, None]\n",
    "\n",
    "bzs, res = [], []\n",
    "for i in range(bz, nps + bz, bz):\n",
    "    res.append([])\n",
    "    ss_states_batch = ss_states[:i]\n",
    "    bzs.append(ss_states_batch.shape[0])\n",
    "    t0 = time.time()\n",
    "    for j, ob in enumerate(ps):\n",
    "        expcs = sejit(ss_states_batch, ob)\n",
    "        res[-1].append(np.median(expcs))\n",
    "        t = time.time()\n",
    "        if i == bz or i % (bz * 10) == 0 or i >= nps:\n",
    "            print(\n",
    "                f\"observalbe: No.{j}\\tnumber of Pauli strings: {bzs[-1]}\\ttime: {t - t0}\"\n",
    "            )\n",
    "        t0 = t\n",
    "res = np.asarray(res).T\n",
    "bzs = np.asarray(bzs) * r\n",
    "\n",
    "error = np.abs(res - exact)\n",
    "plt.figure()\n",
    "plt.xlabel(\"N\")\n",
    "plt.ylabel(\"Error\")\n",
    "for i, y in enumerate(error):\n",
    "    plt.plot(bzs, y, label=f\"No.{i}\")\n",
    "plt.legend()\n",
    "plt.show()"
   ],
   "metadata": {
    "collapsed": false,
    "ExecuteTime": {
     "end_time": "2023-08-09T04:34:15.672764900Z",
     "start_time": "2023-08-09T04:31:41.746108200Z"
    }
   }
  },
  {
   "cell_type": "markdown",
   "source": [
    "## Estimate the Entanglement Entropy"
   ],
   "metadata": {
    "collapsed": false
   }
  },
  {
   "cell_type": "markdown",
   "source": [
    "We can also use classical shadows to calculate entanglement entropy. `entropy_shadow` first reconstructs the reduced density matrix, then solves the eigenvalues and finally calculates the entanglement entropy from non-negative eigenvalues. Since the time and space complexity of reconstructing the density matrix is exponential with respect to the system size, this method is only efficient when the reduced system size is constant. `entropy_shadow` is jitable, but it will only accelerate when the reduced sub systems have the same shape."
   ],
   "metadata": {
    "collapsed": false
   }
  },
  {
   "cell_type": "code",
   "execution_count": 31,
   "outputs": [
    {
     "name": "stdout",
     "output_type": "stream",
     "text": [
      "sub: [1, 4]\ttime: 0.18098187446594238\texact: 1.3406660475264627\tshadow entropy: 1.336610480903445\n",
      "sub: [2, 7]\ttime: 0.03824925422668457\texact: 1.3490932264001985\tshadow entropy: 1.3509166994806294\n",
      "sub: [3, 6]\ttime: 0.038893938064575195\texact: 1.3078555208559692\tshadow entropy: 1.3045157342230482\n",
      "sub: [0, 5]\ttime: 0.038709402084350586\texact: 1.3553616203287133\tshadow entropy: 1.3522747747844561\n",
      "sub: [7, 0]\ttime: 0.03954339027404785\texact: 1.3698051383654024\tshadow entropy: 1.3692586760254173\n",
      "sub: [1, 4, 7]\ttime: 0.2516930103302002\texact: 1.8458514325863924\tshadow entropy: 1.8421843494645114\n",
      "sub: [0, 3, 6]\ttime: 0.1100921630859375\texact: 1.868420576333227\tshadow entropy: 1.8660364331174333\n",
      "sub: [5, 4, 2]\ttime: 0.11081576347351074\texact: 1.9590510433184192\tshadow entropy: 1.953652327649616\n",
      "sub: [7, 2, 5]\ttime: 0.11055541038513184\texact: 1.886694103128951\tshadow entropy: 1.8883320713880314\n",
      "sub: [0, 1, 2]\ttime: 0.10973739624023438\texact: 1.8939518969485623\tshadow entropy: 1.893886982107739\n"
     ]
    }
   ],
   "source": [
    "subs = [\n",
    "    [1, 4],\n",
    "    [2, 7],\n",
    "    [3, 6],\n",
    "    [0, 5],\n",
    "    [7, 0],\n",
    "    [1, 4, 7],\n",
    "    [0, 3, 6],\n",
    "    [5, 4, 2],\n",
    "    [7, 2, 5],\n",
    "    [0, 1, 2],\n",
    "]\n",
    "\n",
    "\n",
    "@tc.backend.jit\n",
    "def shadow_ent(snapshots_states, sub, alpha=2):\n",
    "    return shadows.entropy_shadow(snapshots_states, sub=sub, alpha=alpha)\n",
    "\n",
    "\n",
    "for sub in subs:\n",
    "    exact_rdm = tc.quantum.reduced_density_matrix(\n",
    "        psi, cut=[i for i in range(n) if i not in sub]\n",
    "    )\n",
    "    exact_ent = tc.quantum.renyi_entropy(exact_rdm, k=2)\n",
    "\n",
    "    t0 = time.time()\n",
    "    ent = shadow_ent(ss_states, sub)\n",
    "    t = time.time()\n",
    "    print(f\"sub: {sub}\\ttime: {t - t0}\\texact: {exact_ent}\\tshadow entropy: {ent}\")"
   ],
   "metadata": {
    "collapsed": false,
    "ExecuteTime": {
     "end_time": "2023-08-09T04:34:16.712172300Z",
     "start_time": "2023-08-09T04:34:15.672260Z"
    }
   }
  },
  {
   "cell_type": "markdown",
   "source": [
    "On the other hand, for the second order Renyi entropy, we have another method to calculate it in polynomial time by random measurements:\n",
    "$$\n",
    "\\begin{eqnarray}\n",
    "    S_2&=&-\\log\\left(\\text{Tr}(\\rho_A^2)\\right),\\\\\n",
    "    \\text{Tr}(\\rho_A^2)&=&2^k\\sum_{b,b'\\in\\{0,1\\}^k}(-2)^{-H(b,b')}\\overline{P(b)P(b')},\n",
    "\\end{eqnarray}\n",
    "$$\n",
    "where $A$ is the $k$-d reduced system, $H(b,b')$ is the Hamming distance between $b$ and $b'$, $P(b)$ is the probability for measuring $\\rho_A$ and obtaining the outcomes $b$ thus we need a larger $r$ to obtain a good enough priori probability, and the overline means the average on all random selected Pauli strings. Please refer to [Brydges, et al. (2019)](https://www.science.org/doi/full/10.1126/science.aau4963) for more details. We can use `renyi_entropy_2` to implement this method, but it is not jitable because we need to build the dictionary based on the bit strings obtained by measurements, which is a dynamical process. Compared with `entropy_shadow`, it cannot filter out non-negative eigenvalues, so the accuracy is slightly worse."
   ],
   "metadata": {
    "collapsed": false
   }
  },
  {
   "cell_type": "code",
   "execution_count": 32,
   "outputs": [
    {
     "name": "stdout",
     "output_type": "stream",
     "text": [
      "sub: [1, 4]\ttime: 3.8456406593322754\tshadow entropy 2: 1.311054830562784\n",
      "sub: [2, 7]\ttime: 3.859579086303711\tshadow entropy 2: 1.3140964084640452\n",
      "sub: [3, 6]\ttime: 3.8663485050201416\tshadow entropy 2: 1.2798966683162831\n",
      "sub: [0, 5]\ttime: 3.8766448497772217\tshadow entropy 2: 1.3276919538959406\n",
      "sub: [7, 0]\ttime: 3.8847577571868896\tshadow entropy 2: 1.339702023736642\n",
      "sub: [1, 4, 7]\ttime: 3.9610671997070312\tshadow entropy 2: 1.7672210148609153\n",
      "sub: [0, 3, 6]\ttime: 3.93074893951416\tshadow entropy 2: 1.7792306674701965\n",
      "sub: [5, 4, 2]\ttime: 3.928624153137207\tshadow entropy 2: 1.8506358171662456\n",
      "sub: [7, 2, 5]\ttime: 3.930849313735962\tshadow entropy 2: 1.7919769488750392\n",
      "sub: [0, 1, 2]\ttime: 3.95222544670105\tshadow entropy 2: 1.7900890411701693\n"
     ]
    }
   ],
   "source": [
    "nps, r = 1000, 500\n",
    "\n",
    "pauli_strings = tc.backend.convert_to_tensor(np.random.randint(1, 4, size=(nps, n)))\n",
    "status = tc.backend.convert_to_tensor(np.random.rand(nps, r))\n",
    "\n",
    "snapshots = shadows.shadow_snapshots(psi, pauli_strings, status, measurement_only=True)\n",
    "\n",
    "t0 = time.time()\n",
    "for sub in subs:\n",
    "    ent2 = shadows.renyi_entropy_2(snapshots, sub)\n",
    "\n",
    "    t = time.time()\n",
    "    print(f\"sub: {sub}\\ttime: {t - t0}\\tshadow entropy 2: {ent2}\")\n",
    "    t0 = t"
   ],
   "metadata": {
    "collapsed": false,
    "ExecuteTime": {
     "end_time": "2023-08-09T04:34:55.995126500Z",
     "start_time": "2023-08-09T04:34:16.712172300Z"
    }
   }
  },
  {
   "cell_type": "markdown",
   "source": [
    "## Reconstruct the Density Matrix"
   ],
   "metadata": {
    "collapsed": false
   }
  },
  {
   "cell_type": "markdown",
   "source": [
    "We can use `global_shadow_state`, `global_shadow_state1` or `global_shadow_state2` to reconstruct the density matrix. These three functions use different methods, but the results are exactly the same. All functions are jitable, but since we only use each of them once here, they are not wrapped. In terms of implementation details, `global_shadow_state` uses `kron` and is recommended, the other two use `einsum`."
   ],
   "metadata": {
    "collapsed": false
   }
  },
  {
   "cell_type": "code",
   "execution_count": 33,
   "outputs": [
    {
     "name": "stdout",
     "output_type": "stream",
     "text": [
      "exact:\n",
      " [[0.5+0.j 0. +0.j 0. +0.j 0.5+0.j]\n",
      " [0. +0.j 0. +0.j 0. +0.j 0. +0.j]\n",
      " [0. +0.j 0. +0.j 0. +0.j 0. +0.j]\n",
      " [0.5+0.j 0. +0.j 0. +0.j 0.5+0.j]]\n",
      "\n",
      "shadow state: error: 0.029270951470698747\n",
      " [[ 0.50035 +0.j       -0.000615+0.000525j  0.001155-0.005205j\n",
      "   0.49455 +0.00243j ]\n",
      " [-0.000615-0.000525j -0.00581 +0.j       -0.0054  -0.00693j\n",
      "   0.004935-0.000345j]\n",
      " [ 0.001155+0.005205j -0.0054  +0.00693j  -0.01259 +0.j\n",
      "   0.001185+0.001245j]\n",
      " [ 0.49455 -0.00243j   0.004935+0.000345j  0.001185-0.001245j\n",
      "   0.51805 +0.j      ]]\n",
      "\n",
      "shadow state 1: error: 0.029270951470698747\n",
      " [[ 0.50035 +0.j       -0.000615+0.000525j  0.001155-0.005205j\n",
      "   0.49455 +0.00243j ]\n",
      " [-0.000615-0.000525j -0.00581 +0.j       -0.0054  -0.00693j\n",
      "   0.004935-0.000345j]\n",
      " [ 0.001155+0.005205j -0.0054  +0.00693j  -0.01259 +0.j\n",
      "   0.001185+0.001245j]\n",
      " [ 0.49455 -0.00243j   0.004935+0.000345j  0.001185-0.001245j\n",
      "   0.51805 +0.j      ]]\n",
      "\n",
      "shadow state 2: error: 0.029270951470698747\n",
      " [[ 0.50035 +0.j       -0.000615+0.000525j  0.001155-0.005205j\n",
      "   0.49455 +0.00243j ]\n",
      " [-0.000615-0.000525j -0.00581 +0.j       -0.0054  -0.00693j\n",
      "   0.004935-0.000345j]\n",
      " [ 0.001155+0.005205j -0.0054  +0.00693j  -0.01259 +0.j\n",
      "   0.001185+0.001245j]\n",
      " [ 0.49455 -0.00243j   0.004935+0.000345j  0.001185-0.001245j\n",
      "   0.51805 +0.j      ]]\n"
     ]
    }
   ],
   "source": [
    "n, nps, r = 2, 10000, 5\n",
    "\n",
    "c = tc.Circuit(n)\n",
    "c.H(0)\n",
    "c.cnot(0, 1)\n",
    "\n",
    "psi = c.state()\n",
    "bell_state = psi[:, None] @ psi[None, :]\n",
    "\n",
    "pauli_strings = tc.backend.convert_to_tensor(np.random.randint(1, 4, size=(nps, n)))\n",
    "status = tc.backend.convert_to_tensor(np.random.rand(nps, r))\n",
    "lss_states = shadows.shadow_snapshots(psi, pauli_strings, status)\n",
    "sdw_state = shadows.global_shadow_state(lss_states)\n",
    "sdw_state1 = shadows.global_shadow_state1(lss_states)\n",
    "sdw_state2 = shadows.global_shadow_state2(lss_states)\n",
    "\n",
    "print(\"exact:\\n\", bell_state)\n",
    "print(f\"\\nshadow state: error: {np.linalg.norm(bell_state - sdw_state)}\\n\", sdw_state)\n",
    "print(\n",
    "    f\"\\nshadow state 1: error: {np.linalg.norm(bell_state - sdw_state)}\\n\", sdw_state1\n",
    ")\n",
    "print(\n",
    "    f\"\\nshadow state 2: error: {np.linalg.norm(bell_state - sdw_state)}\\n\", sdw_state2\n",
    ")"
   ],
   "metadata": {
    "collapsed": false,
    "ExecuteTime": {
     "end_time": "2023-08-09T04:34:56.136066900Z",
     "start_time": "2023-08-09T04:34:55.995632500Z"
    }
   }
  },
  {
   "cell_type": "code",
   "execution_count": 34,
   "outputs": [
    {
     "name": "stdout",
     "output_type": "stream",
     "text": [
      "OS info: Linux-5.4.119-1-tlinux4-0010.2-x86_64-with-glibc2.28\n",
      "Python version: 3.10.11\n",
      "Numpy version: 1.23.5\n",
      "Scipy version: 1.11.0\n",
      "Pandas version: 2.0.2\n",
      "TensorNetwork version: 0.4.6\n",
      "Cotengra version: 0.2.1.dev15+g120379e\n",
      "TensorFlow version: 2.12.0\n",
      "TensorFlow GPU: []\n",
      "TensorFlow CUDA infos: {'cpu_compiler': '/dt9/usr/bin/gcc', 'cuda_compute_capabilities': ['sm_35', 'sm_50', 'sm_60', 'sm_70', 'sm_75', 'compute_80'], 'cuda_version': '11.8', 'cudnn_version': '8', 'is_cuda_build': True, 'is_rocm_build': False, 'is_tensorrt_build': True}\n",
      "Jax version: 0.4.13\n",
      "Jax installation doesn't support GPU\n",
      "JaxLib version: 0.4.13\n",
      "PyTorch version: 2.0.1\n",
      "PyTorch GPU support: False\n",
      "PyTorch GPUs: []\n",
      "Cupy is not installed\n",
      "Qiskit version: 0.24.1\n",
      "Cirq version: 1.1.0\n",
      "TensorCircuit version 0.10.0\n"
     ]
    }
   ],
   "source": [
    "tc.about()"
   ],
   "metadata": {
    "collapsed": false,
    "ExecuteTime": {
     "end_time": "2023-08-09T04:34:56.136066900Z",
     "start_time": "2023-08-09T04:34:56.119543900Z"
    }
   }
  }
 ],
 "metadata": {
  "kernelspec": {
   "display_name": "Python 3",
   "language": "python",
   "name": "python3"
  },
  "language_info": {
   "codemirror_mode": {
    "name": "ipython",
    "version": 2
   },
   "file_extension": ".py",
   "mimetype": "text/x-python",
   "name": "python",
   "nbconvert_exporter": "python",
   "pygments_lexer": "ipython2",
   "version": "2.7.6"
  }
 },
 "nbformat": 4,
 "nbformat_minor": 0
}
