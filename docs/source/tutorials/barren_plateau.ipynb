{
 "cells": [
  {
   "cell_type": "markdown",
   "id": "f44a230e-bd91-40a1-b63c-32905ff369b6",
   "metadata": {},
   "source": [
    "# Barren plateaus"
   ]
  },
  {
   "cell_type": "markdown",
   "id": "c7e551d9-a7dc-4fe7-84c5-294b1ae267d6",
   "metadata": {},
   "source": [
    "## Overview"
   ]
  },
  {
   "cell_type": "markdown",
   "id": "34f45c29-9f8f-4723-a96e-2ce283926c75",
   "metadata": {},
   "source": [
    "Barren plateaus are the greatest difficulties in the gradient-based optimization for a large family of random parameterized quantum circuits (PQC). The gradients vanish almost everywhere. In this example, we will show barren plateaus in quantum neural networks (QNNs)."
   ]
  },
  {
   "cell_type": "markdown",
   "id": "e99265d2-3fac-4fb3-998c-463eddf18f65",
   "metadata": {},
   "source": [
    "## Setup"
   ]
  },
  {
   "cell_type": "code",
   "execution_count": 1,
   "id": "c67b2f15-03be-4be2-85c6-6c3fa8ce5a35",
   "metadata": {},
   "outputs": [],
   "source": [
    "import numpy as np\n",
    "import tensorflow as tf\n",
    "import tensorcircuit as tc\n",
    "\n",
    "tc.set_backend(\"tensorflow\")\n",
    "tc.set_dtype(\"complex128\")\n",
    "\n",
    "eye = tc.gates.i().tensor\n",
    "x = tc.gates.x().tensor\n",
    "y = tc.gates.y().tensor\n",
    "z = tc.gates.z().tensor"
   ]
  },
  {
   "cell_type": "markdown",
   "id": "e9616f63-f4dc-4272-8dc0-fc676a059651",
   "metadata": {},
   "source": [
    "## Parameters"
   ]
  },
  {
   "cell_type": "code",
   "execution_count": 2,
   "id": "bbe10483-6182-47ae-96ee-ee5cab773278",
   "metadata": {},
   "outputs": [],
   "source": [
    "n = 4  # The number of qubits\n",
    "nlayers = 1  # The number of circuit layers\n",
    "ncircuits = 2  # The number of circuits with different structures\n",
    "ntrials = 5  # The number of random circuit instances"
   ]
  },
  {
   "cell_type": "markdown",
   "id": "fa8f0080-416c-48fa-9273-cda153c035d0",
   "metadata": {},
   "source": [
    "## Generating QNN"
   ]
  },
  {
   "cell_type": "code",
   "execution_count": 3,
   "id": "9652bb49-9d1c-453c-bd8f-66afd88d2b11",
   "metadata": {},
   "outputs": [],
   "source": [
    "def op_expectation(params, structures, n, nlayers):\n",
    "    paramsc = tc.backend.cast(params, dtype=\"complex128\")  # parameters of gates\n",
    "    structuresc = tc.backend.cast(\n",
    "        structures, dtype=\"complex128\"\n",
    "    )  # parameters of circuit structure\n",
    "\n",
    "    c = tc.Circuit(n)\n",
    "    for i in range(n):\n",
    "        c.ry(i, theta=np.pi / 4)\n",
    "    for l in range(nlayers):\n",
    "        for i in range(n):\n",
    "            c.any(\n",
    "                i,\n",
    "                unitary=structuresc[i, l, 0]\n",
    "                * (\n",
    "                    tc.backend.cos(paramsc[i, l, 0]) * eye\n",
    "                    + 1.0j * tc.backend.sin(paramsc[i, l, 0]) * x\n",
    "                )  # Rx\n",
    "                + structuresc[i, l, 1]\n",
    "                * (\n",
    "                    tc.backend.cos(paramsc[i, l, 1]) * eye\n",
    "                    + 1.0j * tc.backend.sin(paramsc[i, l, 1]) * y\n",
    "                )  # Ry\n",
    "                + structuresc[i, l, 2]\n",
    "                * (\n",
    "                    tc.backend.cos(paramsc[i, l, 2]) * eye\n",
    "                    + 1.0j * tc.backend.sin(paramsc[i, l, 2]) * z\n",
    "                ),  # Rz\n",
    "            )  # choose one gate from Rx, Ry and Rz gates randomly\n",
    "        for i in range(n - 1):\n",
    "            c.cz(i, i + 1)\n",
    "\n",
    "    return tc.backend.real(\n",
    "        c.expectation((tc.gates.z(), [0]), (tc.gates.z(), [1]))\n",
    "    )  # expectations of <Z_0Z_1>"
   ]
  },
  {
   "cell_type": "code",
   "execution_count": 4,
   "id": "d8c49368-a0bd-4021-964d-942ec922bc37",
   "metadata": {},
   "outputs": [],
   "source": [
    "# use vvag to get the expectations of ZZ observable and gradients of different random circuit instances\n",
    "op_expectation_vvag = tc.backend.jit(\n",
    "    tc.backend.vvag(op_expectation, argnums=0, vectorized_argnums=1)\n",
    ")"
   ]
  },
  {
   "cell_type": "markdown",
   "id": "50e481cf-c4dc-4f94-b701-18b79c8e32e5",
   "metadata": {},
   "source": [
    "## Structure parameters"
   ]
  },
  {
   "cell_type": "code",
   "execution_count": 5,
   "id": "d8a826d0-2e81-425e-8d9a-669b939e7b20",
   "metadata": {},
   "outputs": [],
   "source": [
    "def getstructures(ncircuits, n, nlayers):\n",
    "    weight = np.random.uniform(low=0.0, high=1.0, size=[ncircuits, n, nlayers, 3])\n",
    "    maxweightindex = np.argmax(weight, axis=-1)\n",
    "    structures = np.zeros([ncircuits, n, nlayers, 3])\n",
    "    for i in range(ncircuits):\n",
    "        for j in range(n):\n",
    "            for k in range(nlayers):\n",
    "                structures[\n",
    "                    i, j, k, maxweightindex[i, j, k]\n",
    "                ] = 1.0  # choose the gate with maximal weight\n",
    "    structures = tc.array_to_tensor(structures, dtype=\"float64\")\n",
    "    return structures"
   ]
  },
  {
   "cell_type": "markdown",
   "id": "e6e4d667-e6d5-41f2-9ac1-39e151889bce",
   "metadata": {},
   "source": [
    "## Batch variance computation"
   ]
  },
  {
   "cell_type": "code",
   "execution_count": 6,
   "id": "c61124e8-0769-4118-a208-0a8984aa8e31",
   "metadata": {},
   "outputs": [
    {
     "name": "stdout",
     "output_type": "stream",
     "text": [
      "The variance of the gradients is: 0.2828084286670117\n"
     ]
    }
   ],
   "source": [
    "grad_var_list = []  # gradient variances list\n",
    "for i in range(ntrials):\n",
    "    structures = getstructures(ncircuits, n, nlayers)\n",
    "    params = tc.array_to_tensor(\n",
    "        np.random.uniform(low=0.0, high=2 * np.pi, size=[n, nlayers, 3]),\n",
    "        dtype=\"float64\",\n",
    "    )\n",
    "    e, grad = op_expectation_vvag(\n",
    "        params, structures, n, nlayers\n",
    "    )  # the expectations of ZZ observable and gradients of different random circuits\n",
    "    grad_var_list.append(tf.math.reduce_std(grad, axis=0)[0, 0])\n",
    "\n",
    "grad_var = tf.reduce_mean(grad_var_list)\n",
    "print(\"The variance of the gradients is:\", grad_var.numpy())"
   ]
  },
  {
   "cell_type": "markdown",
   "id": "1a47801a-0ff8-422e-807c-2382e06971ce",
   "metadata": {},
   "source": [
    "## Results"
   ]
  },
  {
   "cell_type": "markdown",
   "id": "78a5f073-aad1-40d6-ab24-68b4a7099f2b",
   "metadata": {},
   "source": [
    "The gradient variances in QNNs ($nlayers=50$, $ntrials=20$, $ncircuits=20$). The landscape become exponentially barren with increasing qubit number. "
   ]
  },
  {
   "attachments": {
    "b7cf5a6d-1f6f-47e2-9958-9e52b4fdb347.jpg": {
     "image/jpeg": "[encoded data removed]"
    }
   },
   "cell_type": "markdown",
   "id": "7d1c8f77-42aa-4d5f-8862-c6d0e8dd0efa",
   "metadata": {},
   "source": [
    "![barren.jpg](attachment:b7cf5a6d-1f6f-47e2-9958-9e52b4fdb347.jpg)"
   ]
  }
 ],
 "metadata": {
  "kernelspec": {
   "display_name": "Python 3 (ipykernel)",
   "language": "python",
   "name": "python3"
  },
  "language_info": {
   "codemirror_mode": {
    "name": "ipython",
    "version": 3
   },
   "file_extension": ".py",
   "mimetype": "text/x-python",
   "name": "python",
   "nbconvert_exporter": "python",
   "pygments_lexer": "ipython3",
   "version": "3.7.11"
  }
 },
 "nbformat": 4,
 "nbformat_minor": 5
}
