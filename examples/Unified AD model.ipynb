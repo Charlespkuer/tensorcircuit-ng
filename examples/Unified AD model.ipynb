{
 "cells": [
  {
   "cell_type": "code",
   "execution_count": 1,
   "metadata": {},
   "outputs": [],
   "source": [
    "import tensorflow as tf\n",
    "import tensornetwork as tn\n",
    "import numpy as np\n",
    "import sys\n",
    "\n",
    "sys.path.insert(0, \"../\")\n",
    "import tensorcircuit as tc\n",
    "import jax\n",
    "import torch"
   ]
  },
  {
   "cell_type": "markdown",
   "metadata": {},
   "source": [
    "In this small demo, we show how to write code that can be run on different backends and dtypes, such as tensorflow, jax and pytorch.\n",
    "This is just for fun, and I have no intention to agrressively going forward in this direction.\n",
    "\n",
    "It is just a fancy byproduct with the project tensorcircuit whose focus is quantum computation instead of ML system design."
   ]
  },
  {
   "cell_type": "code",
   "execution_count": 4,
   "metadata": {},
   "outputs": [],
   "source": [
    "def universal_code(a, b):\n",
    "    \"\"\"\n",
    "    The code inside this fuction is wirtten once and run everywhere on different dtypes and backends\n",
    "    \"\"\"\n",
    "\n",
    "    @tc.backend.jit\n",
    "    def add(a, b):\n",
    "        y = tc.backend.trace(a + b)\n",
    "        return tc.backend.real(y)\n",
    "\n",
    "    padd = tc.backend.vmap(add)\n",
    "\n",
    "    def forward(a, b):\n",
    "        l = padd(a, b)\n",
    "        return tc.backend.einsum(\"i->\", l)\n",
    "\n",
    "    g = tc.backend.grad(forward, argnums=[0, 1])\n",
    "    a, b = tc.gates.num_to_tensor(a, b)\n",
    "    return g(a, b)"
   ]
  },
  {
   "cell_type": "code",
   "execution_count": 5,
   "metadata": {},
   "outputs": [
    {
     "data": {
      "text/plain": [
       "(DeviceArray([[[1.+0.j, 0.+0.j],\n",
       "               [0.+0.j, 1.+0.j]],\n",
       " \n",
       "              [[1.+0.j, 0.+0.j],\n",
       "               [0.+0.j, 1.+0.j]]], dtype=complex64),\n",
       " DeviceArray([[[1.+0.j, 0.+0.j],\n",
       "               [0.+0.j, 1.+0.j]],\n",
       " \n",
       "              [[1.+0.j, 0.+0.j],\n",
       "               [0.+0.j, 1.+0.j]]], dtype=complex64))"
      ]
     },
     "execution_count": 5,
     "metadata": {},
     "output_type": "execute_result"
    }
   ],
   "source": [
    "tc.set_backend(\"jax\")\n",
    "universal_code(np.ones([2, 2, 2]), np.ones([2, 2, 2]))"
   ]
  },
  {
   "cell_type": "code",
   "execution_count": 6,
   "metadata": {},
   "outputs": [
    {
     "name": "stderr",
     "output_type": "stream",
     "text": [
      "../tensorcircuit/backends.py:246: UserWarning: pytorch backend has no intrinsic vmap like interface, use plain for loop for compatibility\n",
      "  \"pytorch backend has no intrinsic vmap like interface\"\n"
     ]
    },
    {
     "data": {
      "text/plain": [
       "[tensor([[[1., 0.],\n",
       "          [0., 1.]],\n",
       " \n",
       "         [[1., 0.],\n",
       "          [0., 1.]]], dtype=torch.float64), tensor([[[1., 0.],\n",
       "          [0., 1.]],\n",
       " \n",
       "         [[1., 0.],\n",
       "          [0., 1.]]], dtype=torch.float64)]"
      ]
     },
     "execution_count": 6,
     "metadata": {},
     "output_type": "execute_result"
    }
   ],
   "source": [
    "tc.set_backend(\"pytorch\")\n",
    "tc.set_dtype(\"float64\")\n",
    "universal_code(np.ones([2, 2, 2]), np.ones([2, 2, 2]))"
   ]
  },
  {
   "cell_type": "code",
   "execution_count": 9,
   "metadata": {},
   "outputs": [
    {
     "data": {
      "text/plain": [
       "[<tf.Tensor: shape=(2, 2, 2), dtype=float64, numpy=\n",
       " array([[[1., 0.],\n",
       "         [0., 1.]],\n",
       " \n",
       "        [[1., 0.],\n",
       "         [0., 1.]]])>, <tf.Tensor: shape=(2, 2, 2), dtype=float64, numpy=\n",
       " array([[[1., 0.],\n",
       "         [0., 1.]],\n",
       " \n",
       "        [[1., 0.],\n",
       "         [0., 1.]]])>]"
      ]
     },
     "execution_count": 9,
     "metadata": {},
     "output_type": "execute_result"
    }
   ],
   "source": [
    "tc.set_backend(\"tensorflow\")\n",
    "tc.set_dtype(\"float64\")\n",
    "universal_code(np.ones([2, 2, 2]), np.ones([2, 2, 2]))"
   ]
  },
  {
   "cell_type": "code",
   "execution_count": 8,
   "metadata": {},
   "outputs": [
    {
     "data": {
      "text/plain": [
       "[<tf.Tensor: shape=(2, 2, 2), dtype=complex128, numpy=\n",
       " array([[[1.+0.j, 0.+0.j],\n",
       "         [0.+0.j, 1.+0.j]],\n",
       " \n",
       "        [[1.+0.j, 0.+0.j],\n",
       "         [0.+0.j, 1.+0.j]]])>,\n",
       " <tf.Tensor: shape=(2, 2, 2), dtype=complex128, numpy=\n",
       " array([[[1.+0.j, 0.+0.j],\n",
       "         [0.+0.j, 1.+0.j]],\n",
       " \n",
       "        [[1.+0.j, 0.+0.j],\n",
       "         [0.+0.j, 1.+0.j]]])>]"
      ]
     },
     "execution_count": 8,
     "metadata": {},
     "output_type": "execute_result"
    }
   ],
   "source": [
    "tc.set_backend(\"tensorflow\")\n",
    "tc.set_dtype(\"complex128\")\n",
    "universal_code(np.ones([2, 2, 2]), np.ones([2, 2, 2]))"
   ]
  },
  {
   "cell_type": "code",
   "execution_count": null,
   "metadata": {},
   "outputs": [],
   "source": []
  }
 ],
 "metadata": {
  "kernelspec": {
   "display_name": "Python 3",
   "language": "python",
   "name": "python3"
  },
  "language_info": {
   "codemirror_mode": {
    "name": "ipython",
    "version": 3
   },
   "file_extension": ".py",
   "mimetype": "text/x-python",
   "name": "python",
   "nbconvert_exporter": "python",
   "pygments_lexer": "ipython3",
   "version": "3.6.3"
  }
 },
 "nbformat": 4,
 "nbformat_minor": 2
}
